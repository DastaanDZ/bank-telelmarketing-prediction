{
 "cells": [
  {
   "cell_type": "code",
   "execution_count": null,
   "metadata": {
    "_cell_guid": "6ec79202-2d09-4503-8484-26f15ed1b31c",
    "_uuid": "73c3b599-93c9-40fb-90dd-cbca50d17fb6",
    "collapsed": false,
    "execution": {
     "iopub.execute_input": "2024-11-29T17:10:17.081476Z",
     "iopub.status.busy": "2024-11-29T17:10:17.080931Z",
     "iopub.status.idle": "2024-11-29T17:10:18.550320Z",
     "shell.execute_reply": "2024-11-29T17:10:18.548317Z",
     "shell.execute_reply.started": "2024-11-29T17:10:17.081404Z"
    },
    "jupyter": {
     "outputs_hidden": false
    },
    "trusted": true
   },
   "outputs": [
    {
     "name": "stdout",
     "output_type": "stream",
     "text": [
      "/kaggle/input/predict-the-success-of-bank-telemarketing/sample_submission.csv\n",
      "/kaggle/input/predict-the-success-of-bank-telemarketing/train.csv\n",
      "/kaggle/input/predict-the-success-of-bank-telemarketing/test.csv\n"
     ]
    }
   ],
   "source": [
    "import numpy as np \n",
    "import pandas as pd\n"
   ]
  },
  {
   "cell_type": "markdown",
   "metadata": {
    "_cell_guid": "4ac4b17e-174f-4595-bb27-4dc21a077d6f",
    "_uuid": "7d7b9e6a-7759-48c6-8f7c-f0e33880796a",
    "trusted": true
   },
   "source": [
    "# Test Data"
   ]
  },
  {
   "cell_type": "code",
   "execution_count": 2,
   "metadata": {
    "_cell_guid": "cfdbe37f-c8f5-4dc7-a1fd-2b6103efcf8c",
    "_uuid": "348d234d-fd7d-4481-89d1-286270eabc1e",
    "collapsed": false,
    "execution": {
     "iopub.execute_input": "2024-11-29T17:10:18.553152Z",
     "iopub.status.busy": "2024-11-29T17:10:18.552662Z",
     "iopub.status.idle": "2024-11-29T17:10:18.652147Z",
     "shell.execute_reply": "2024-11-29T17:10:18.650750Z",
     "shell.execute_reply.started": "2024-11-29T17:10:18.553116Z"
    },
    "jupyter": {
     "outputs_hidden": false
    },
    "trusted": true
   },
   "outputs": [
    {
     "data": {
      "text/html": [
       "<div>\n",
       "<style scoped>\n",
       "    .dataframe tbody tr th:only-of-type {\n",
       "        vertical-align: middle;\n",
       "    }\n",
       "\n",
       "    .dataframe tbody tr th {\n",
       "        vertical-align: top;\n",
       "    }\n",
       "\n",
       "    .dataframe thead th {\n",
       "        text-align: right;\n",
       "    }\n",
       "</style>\n",
       "<table border=\"1\" class=\"dataframe\">\n",
       "  <thead>\n",
       "    <tr style=\"text-align: right;\">\n",
       "      <th></th>\n",
       "      <th>last contact date</th>\n",
       "      <th>age</th>\n",
       "      <th>job</th>\n",
       "      <th>marital</th>\n",
       "      <th>education</th>\n",
       "      <th>default</th>\n",
       "      <th>balance</th>\n",
       "      <th>housing</th>\n",
       "      <th>loan</th>\n",
       "      <th>contact</th>\n",
       "      <th>duration</th>\n",
       "      <th>campaign</th>\n",
       "      <th>pdays</th>\n",
       "      <th>previous</th>\n",
       "      <th>poutcome</th>\n",
       "    </tr>\n",
       "  </thead>\n",
       "  <tbody>\n",
       "    <tr>\n",
       "      <th>0</th>\n",
       "      <td>2009-11-21</td>\n",
       "      <td>36</td>\n",
       "      <td>management</td>\n",
       "      <td>single</td>\n",
       "      <td>tertiary</td>\n",
       "      <td>no</td>\n",
       "      <td>7</td>\n",
       "      <td>no</td>\n",
       "      <td>no</td>\n",
       "      <td>NaN</td>\n",
       "      <td>20</td>\n",
       "      <td>1</td>\n",
       "      <td>-1</td>\n",
       "      <td>0</td>\n",
       "      <td>NaN</td>\n",
       "    </tr>\n",
       "    <tr>\n",
       "      <th>1</th>\n",
       "      <td>2010-02-04</td>\n",
       "      <td>30</td>\n",
       "      <td>unemployed</td>\n",
       "      <td>married</td>\n",
       "      <td>tertiary</td>\n",
       "      <td>no</td>\n",
       "      <td>1067</td>\n",
       "      <td>no</td>\n",
       "      <td>no</td>\n",
       "      <td>cellular</td>\n",
       "      <td>78</td>\n",
       "      <td>2</td>\n",
       "      <td>-1</td>\n",
       "      <td>0</td>\n",
       "      <td>NaN</td>\n",
       "    </tr>\n",
       "    <tr>\n",
       "      <th>2</th>\n",
       "      <td>2010-07-28</td>\n",
       "      <td>32</td>\n",
       "      <td>blue-collar</td>\n",
       "      <td>single</td>\n",
       "      <td>secondary</td>\n",
       "      <td>no</td>\n",
       "      <td>82</td>\n",
       "      <td>yes</td>\n",
       "      <td>no</td>\n",
       "      <td>cellular</td>\n",
       "      <td>86</td>\n",
       "      <td>4</td>\n",
       "      <td>-1</td>\n",
       "      <td>0</td>\n",
       "      <td>NaN</td>\n",
       "    </tr>\n",
       "    <tr>\n",
       "      <th>3</th>\n",
       "      <td>2010-06-09</td>\n",
       "      <td>38</td>\n",
       "      <td>admin.</td>\n",
       "      <td>married</td>\n",
       "      <td>primary</td>\n",
       "      <td>no</td>\n",
       "      <td>1487</td>\n",
       "      <td>no</td>\n",
       "      <td>no</td>\n",
       "      <td>NaN</td>\n",
       "      <td>332</td>\n",
       "      <td>2</td>\n",
       "      <td>-1</td>\n",
       "      <td>0</td>\n",
       "      <td>NaN</td>\n",
       "    </tr>\n",
       "    <tr>\n",
       "      <th>4</th>\n",
       "      <td>2008-03-02</td>\n",
       "      <td>59</td>\n",
       "      <td>management</td>\n",
       "      <td>married</td>\n",
       "      <td>tertiary</td>\n",
       "      <td>no</td>\n",
       "      <td>315</td>\n",
       "      <td>no</td>\n",
       "      <td>no</td>\n",
       "      <td>cellular</td>\n",
       "      <td>591</td>\n",
       "      <td>1</td>\n",
       "      <td>176</td>\n",
       "      <td>2</td>\n",
       "      <td>failure</td>\n",
       "    </tr>\n",
       "  </tbody>\n",
       "</table>\n",
       "</div>"
      ],
      "text/plain": [
       "  last contact date  age          job  marital  education default  balance  \\\n",
       "0        2009-11-21   36   management   single   tertiary      no        7   \n",
       "1        2010-02-04   30   unemployed  married   tertiary      no     1067   \n",
       "2        2010-07-28   32  blue-collar   single  secondary      no       82   \n",
       "3        2010-06-09   38       admin.  married    primary      no     1487   \n",
       "4        2008-03-02   59   management  married   tertiary      no      315   \n",
       "\n",
       "  housing loan   contact  duration  campaign  pdays  previous poutcome  \n",
       "0      no   no       NaN        20         1     -1         0      NaN  \n",
       "1      no   no  cellular        78         2     -1         0      NaN  \n",
       "2     yes   no  cellular        86         4     -1         0      NaN  \n",
       "3      no   no       NaN       332         2     -1         0      NaN  \n",
       "4      no   no  cellular       591         1    176         2  failure  "
      ]
     },
     "execution_count": 2,
     "metadata": {},
     "output_type": "execute_result"
    }
   ],
   "source": [
    "test_df = pd.read_csv(\"/kaggle/input/predict-the-success-of-bank-telemarketing/test.csv\")\n",
    "test_df.head()"
   ]
  },
  {
   "cell_type": "code",
   "execution_count": 3,
   "metadata": {
    "_cell_guid": "07bb40ba-4b1b-4247-bd30-5c3a7aa7b370",
    "_uuid": "e4d6c54a-8ba7-4b1e-99eb-35be7a52c0c7",
    "collapsed": false,
    "execution": {
     "iopub.execute_input": "2024-11-29T17:10:18.654133Z",
     "iopub.status.busy": "2024-11-29T17:10:18.653683Z",
     "iopub.status.idle": "2024-11-29T17:10:18.661975Z",
     "shell.execute_reply": "2024-11-29T17:10:18.660757Z",
     "shell.execute_reply.started": "2024-11-29T17:10:18.654080Z"
    },
    "jupyter": {
     "outputs_hidden": false
    },
    "trusted": true
   },
   "outputs": [
    {
     "data": {
      "text/plain": [
       "(10000, 15)"
      ]
     },
     "execution_count": 3,
     "metadata": {},
     "output_type": "execute_result"
    }
   ],
   "source": [
    "test_df.shape"
   ]
  },
  {
   "cell_type": "markdown",
   "metadata": {
    "_cell_guid": "eeef48fd-2f96-4266-beaa-47503e5d9deb",
    "_uuid": "113989bb-f3df-4168-9bdb-9273dd57dc89",
    "trusted": true
   },
   "source": [
    "# Train Data"
   ]
  },
  {
   "cell_type": "code",
   "execution_count": 4,
   "metadata": {
    "_cell_guid": "4eb44099-7f1b-4d8e-87a9-fbbe732acfe2",
    "_uuid": "0eeb1eba-a45a-4dd5-bd1a-fddabd52f18f",
    "collapsed": false,
    "execution": {
     "iopub.execute_input": "2024-11-29T17:10:18.665293Z",
     "iopub.status.busy": "2024-11-29T17:10:18.664881Z",
     "iopub.status.idle": "2024-11-29T17:10:18.841718Z",
     "shell.execute_reply": "2024-11-29T17:10:18.840317Z",
     "shell.execute_reply.started": "2024-11-29T17:10:18.665243Z"
    },
    "jupyter": {
     "outputs_hidden": false
    },
    "trusted": true
   },
   "outputs": [
    {
     "data": {
      "text/html": [
       "<div>\n",
       "<style scoped>\n",
       "    .dataframe tbody tr th:only-of-type {\n",
       "        vertical-align: middle;\n",
       "    }\n",
       "\n",
       "    .dataframe tbody tr th {\n",
       "        vertical-align: top;\n",
       "    }\n",
       "\n",
       "    .dataframe thead th {\n",
       "        text-align: right;\n",
       "    }\n",
       "</style>\n",
       "<table border=\"1\" class=\"dataframe\">\n",
       "  <thead>\n",
       "    <tr style=\"text-align: right;\">\n",
       "      <th></th>\n",
       "      <th>last contact date</th>\n",
       "      <th>age</th>\n",
       "      <th>job</th>\n",
       "      <th>marital</th>\n",
       "      <th>education</th>\n",
       "      <th>default</th>\n",
       "      <th>balance</th>\n",
       "      <th>housing</th>\n",
       "      <th>loan</th>\n",
       "      <th>contact</th>\n",
       "      <th>duration</th>\n",
       "      <th>campaign</th>\n",
       "      <th>pdays</th>\n",
       "      <th>previous</th>\n",
       "      <th>poutcome</th>\n",
       "      <th>target</th>\n",
       "    </tr>\n",
       "  </thead>\n",
       "  <tbody>\n",
       "    <tr>\n",
       "      <th>0</th>\n",
       "      <td>2009-04-17</td>\n",
       "      <td>26</td>\n",
       "      <td>blue-collar</td>\n",
       "      <td>married</td>\n",
       "      <td>secondary</td>\n",
       "      <td>no</td>\n",
       "      <td>647</td>\n",
       "      <td>yes</td>\n",
       "      <td>no</td>\n",
       "      <td>cellular</td>\n",
       "      <td>357</td>\n",
       "      <td>2</td>\n",
       "      <td>331</td>\n",
       "      <td>1</td>\n",
       "      <td>other</td>\n",
       "      <td>no</td>\n",
       "    </tr>\n",
       "    <tr>\n",
       "      <th>1</th>\n",
       "      <td>2009-10-11</td>\n",
       "      <td>52</td>\n",
       "      <td>technician</td>\n",
       "      <td>married</td>\n",
       "      <td>secondary</td>\n",
       "      <td>no</td>\n",
       "      <td>553</td>\n",
       "      <td>yes</td>\n",
       "      <td>no</td>\n",
       "      <td>telephone</td>\n",
       "      <td>160</td>\n",
       "      <td>1</td>\n",
       "      <td>-1</td>\n",
       "      <td>0</td>\n",
       "      <td>NaN</td>\n",
       "      <td>no</td>\n",
       "    </tr>\n",
       "    <tr>\n",
       "      <th>2</th>\n",
       "      <td>2010-11-20</td>\n",
       "      <td>44</td>\n",
       "      <td>blue-collar</td>\n",
       "      <td>married</td>\n",
       "      <td>secondary</td>\n",
       "      <td>no</td>\n",
       "      <td>1397</td>\n",
       "      <td>no</td>\n",
       "      <td>no</td>\n",
       "      <td>cellular</td>\n",
       "      <td>326</td>\n",
       "      <td>1</td>\n",
       "      <td>-1</td>\n",
       "      <td>0</td>\n",
       "      <td>NaN</td>\n",
       "      <td>no</td>\n",
       "    </tr>\n",
       "    <tr>\n",
       "      <th>3</th>\n",
       "      <td>2009-09-01</td>\n",
       "      <td>33</td>\n",
       "      <td>admin.</td>\n",
       "      <td>married</td>\n",
       "      <td>secondary</td>\n",
       "      <td>no</td>\n",
       "      <td>394</td>\n",
       "      <td>yes</td>\n",
       "      <td>no</td>\n",
       "      <td>telephone</td>\n",
       "      <td>104</td>\n",
       "      <td>3</td>\n",
       "      <td>-1</td>\n",
       "      <td>0</td>\n",
       "      <td>NaN</td>\n",
       "      <td>no</td>\n",
       "    </tr>\n",
       "    <tr>\n",
       "      <th>4</th>\n",
       "      <td>2008-01-29</td>\n",
       "      <td>31</td>\n",
       "      <td>entrepreneur</td>\n",
       "      <td>single</td>\n",
       "      <td>tertiary</td>\n",
       "      <td>no</td>\n",
       "      <td>137</td>\n",
       "      <td>no</td>\n",
       "      <td>no</td>\n",
       "      <td>cellular</td>\n",
       "      <td>445</td>\n",
       "      <td>2</td>\n",
       "      <td>-1</td>\n",
       "      <td>0</td>\n",
       "      <td>NaN</td>\n",
       "      <td>no</td>\n",
       "    </tr>\n",
       "  </tbody>\n",
       "</table>\n",
       "</div>"
      ],
      "text/plain": [
       "  last contact date  age           job  marital  education default  balance  \\\n",
       "0        2009-04-17   26   blue-collar  married  secondary      no      647   \n",
       "1        2009-10-11   52    technician  married  secondary      no      553   \n",
       "2        2010-11-20   44   blue-collar  married  secondary      no     1397   \n",
       "3        2009-09-01   33        admin.  married  secondary      no      394   \n",
       "4        2008-01-29   31  entrepreneur   single   tertiary      no      137   \n",
       "\n",
       "  housing loan    contact  duration  campaign  pdays  previous poutcome target  \n",
       "0     yes   no   cellular       357         2    331         1    other     no  \n",
       "1     yes   no  telephone       160         1     -1         0      NaN     no  \n",
       "2      no   no   cellular       326         1     -1         0      NaN     no  \n",
       "3     yes   no  telephone       104         3     -1         0      NaN     no  \n",
       "4      no   no   cellular       445         2     -1         0      NaN     no  "
      ]
     },
     "execution_count": 4,
     "metadata": {},
     "output_type": "execute_result"
    }
   ],
   "source": [
    "train_df = pd.read_csv(\"/kaggle/input/predict-the-success-of-bank-telemarketing/train.csv\")\n",
    "train_df.head()"
   ]
  },
  {
   "cell_type": "markdown",
   "metadata": {
    "_cell_guid": "419e0243-07eb-481f-8ec0-77069f5a2e85",
    "_uuid": "8212c91f-be6e-4343-8582-e55fc2b18211",
    "trusted": true
   },
   "source": [
    "# Submission"
   ]
  },
  {
   "cell_type": "code",
   "execution_count": 5,
   "metadata": {
    "_cell_guid": "b5c162f1-bcec-40f6-b121-aceaadb588a4",
    "_uuid": "a98081e3-4f9b-4d14-ba54-1ef651196f29",
    "collapsed": false,
    "execution": {
     "iopub.execute_input": "2024-11-29T17:10:18.843706Z",
     "iopub.status.busy": "2024-11-29T17:10:18.843230Z",
     "iopub.status.idle": "2024-11-29T17:10:18.858913Z",
     "shell.execute_reply": "2024-11-29T17:10:18.857534Z",
     "shell.execute_reply.started": "2024-11-29T17:10:18.843656Z"
    },
    "jupyter": {
     "outputs_hidden": false
    },
    "trusted": true
   },
   "outputs": [],
   "source": [
    "submission_df = pd.read_csv(\"/kaggle/input/predict-the-success-of-bank-telemarketing/sample_submission.csv\")"
   ]
  },
  {
   "cell_type": "code",
   "execution_count": 6,
   "metadata": {
    "_cell_guid": "a9f6a5e5-f34d-44ee-9eef-e21721388b78",
    "_uuid": "ef5e544e-775c-4aee-aa86-cafb8f9838cd",
    "collapsed": false,
    "execution": {
     "iopub.execute_input": "2024-11-29T17:10:18.861013Z",
     "iopub.status.busy": "2024-11-29T17:10:18.860503Z",
     "iopub.status.idle": "2024-11-29T17:10:18.884485Z",
     "shell.execute_reply": "2024-11-29T17:10:18.882662Z",
     "shell.execute_reply.started": "2024-11-29T17:10:18.860962Z"
    },
    "jupyter": {
     "outputs_hidden": false
    },
    "trusted": true
   },
   "outputs": [
    {
     "data": {
      "text/html": [
       "<div>\n",
       "<style scoped>\n",
       "    .dataframe tbody tr th:only-of-type {\n",
       "        vertical-align: middle;\n",
       "    }\n",
       "\n",
       "    .dataframe tbody tr th {\n",
       "        vertical-align: top;\n",
       "    }\n",
       "\n",
       "    .dataframe thead th {\n",
       "        text-align: right;\n",
       "    }\n",
       "</style>\n",
       "<table border=\"1\" class=\"dataframe\">\n",
       "  <thead>\n",
       "    <tr style=\"text-align: right;\">\n",
       "      <th></th>\n",
       "      <th>id</th>\n",
       "      <th>target</th>\n",
       "    </tr>\n",
       "  </thead>\n",
       "  <tbody>\n",
       "    <tr>\n",
       "      <th>0</th>\n",
       "      <td>0</td>\n",
       "      <td>no</td>\n",
       "    </tr>\n",
       "    <tr>\n",
       "      <th>1</th>\n",
       "      <td>1</td>\n",
       "      <td>no</td>\n",
       "    </tr>\n",
       "    <tr>\n",
       "      <th>2</th>\n",
       "      <td>2</td>\n",
       "      <td>no</td>\n",
       "    </tr>\n",
       "    <tr>\n",
       "      <th>3</th>\n",
       "      <td>3</td>\n",
       "      <td>yes</td>\n",
       "    </tr>\n",
       "    <tr>\n",
       "      <th>4</th>\n",
       "      <td>4</td>\n",
       "      <td>yes</td>\n",
       "    </tr>\n",
       "    <tr>\n",
       "      <th>...</th>\n",
       "      <td>...</td>\n",
       "      <td>...</td>\n",
       "    </tr>\n",
       "    <tr>\n",
       "      <th>9995</th>\n",
       "      <td>9995</td>\n",
       "      <td>yes</td>\n",
       "    </tr>\n",
       "    <tr>\n",
       "      <th>9996</th>\n",
       "      <td>9996</td>\n",
       "      <td>no</td>\n",
       "    </tr>\n",
       "    <tr>\n",
       "      <th>9997</th>\n",
       "      <td>9997</td>\n",
       "      <td>no</td>\n",
       "    </tr>\n",
       "    <tr>\n",
       "      <th>9998</th>\n",
       "      <td>9998</td>\n",
       "      <td>no</td>\n",
       "    </tr>\n",
       "    <tr>\n",
       "      <th>9999</th>\n",
       "      <td>9999</td>\n",
       "      <td>no</td>\n",
       "    </tr>\n",
       "  </tbody>\n",
       "</table>\n",
       "<p>10000 rows × 2 columns</p>\n",
       "</div>"
      ],
      "text/plain": [
       "        id target\n",
       "0        0     no\n",
       "1        1     no\n",
       "2        2     no\n",
       "3        3    yes\n",
       "4        4    yes\n",
       "...    ...    ...\n",
       "9995  9995    yes\n",
       "9996  9996     no\n",
       "9997  9997     no\n",
       "9998  9998     no\n",
       "9999  9999     no\n",
       "\n",
       "[10000 rows x 2 columns]"
      ]
     },
     "execution_count": 6,
     "metadata": {},
     "output_type": "execute_result"
    }
   ],
   "source": [
    "submission_df"
   ]
  },
  {
   "cell_type": "code",
   "execution_count": 7,
   "metadata": {
    "_cell_guid": "086ce512-299b-4e11-9860-cb2ff00edde3",
    "_uuid": "0291df2b-2c74-449e-b34d-21b22378e5ba",
    "collapsed": false,
    "execution": {
     "iopub.execute_input": "2024-11-29T17:10:18.886969Z",
     "iopub.status.busy": "2024-11-29T17:10:18.886375Z",
     "iopub.status.idle": "2024-11-29T17:10:18.939297Z",
     "shell.execute_reply": "2024-11-29T17:10:18.937938Z",
     "shell.execute_reply.started": "2024-11-29T17:10:18.886872Z"
    },
    "jupyter": {
     "outputs_hidden": false
    },
    "trusted": true
   },
   "outputs": [
    {
     "name": "stdout",
     "output_type": "stream",
     "text": [
      "<class 'pandas.core.frame.DataFrame'>\n",
      "RangeIndex: 39211 entries, 0 to 39210\n",
      "Data columns (total 16 columns):\n",
      " #   Column             Non-Null Count  Dtype \n",
      "---  ------             --------------  ----- \n",
      " 0   last contact date  39211 non-null  object\n",
      " 1   age                39211 non-null  int64 \n",
      " 2   job                38982 non-null  object\n",
      " 3   marital            39211 non-null  object\n",
      " 4   education          37744 non-null  object\n",
      " 5   default            39211 non-null  object\n",
      " 6   balance            39211 non-null  int64 \n",
      " 7   housing            39211 non-null  object\n",
      " 8   loan               39211 non-null  object\n",
      " 9   contact            28875 non-null  object\n",
      " 10  duration           39211 non-null  int64 \n",
      " 11  campaign           39211 non-null  int64 \n",
      " 12  pdays              39211 non-null  int64 \n",
      " 13  previous           39211 non-null  int64 \n",
      " 14  poutcome           9760 non-null   object\n",
      " 15  target             39211 non-null  object\n",
      "dtypes: int64(6), object(10)\n",
      "memory usage: 4.8+ MB\n"
     ]
    }
   ],
   "source": [
    "train_df.info()"
   ]
  },
  {
   "cell_type": "code",
   "execution_count": 8,
   "metadata": {
    "_cell_guid": "c1697ad4-7e8b-4cb0-9e7b-639148df9162",
    "_uuid": "b3a4488c-f42b-453b-87f4-21b93534aa39",
    "collapsed": false,
    "execution": {
     "iopub.execute_input": "2024-11-29T17:10:18.941231Z",
     "iopub.status.busy": "2024-11-29T17:10:18.940856Z",
     "iopub.status.idle": "2024-11-29T17:10:18.984723Z",
     "shell.execute_reply": "2024-11-29T17:10:18.983547Z",
     "shell.execute_reply.started": "2024-11-29T17:10:18.941198Z"
    },
    "jupyter": {
     "outputs_hidden": false
    },
    "trusted": true
   },
   "outputs": [
    {
     "data": {
      "text/html": [
       "<div>\n",
       "<style scoped>\n",
       "    .dataframe tbody tr th:only-of-type {\n",
       "        vertical-align: middle;\n",
       "    }\n",
       "\n",
       "    .dataframe tbody tr th {\n",
       "        vertical-align: top;\n",
       "    }\n",
       "\n",
       "    .dataframe thead th {\n",
       "        text-align: right;\n",
       "    }\n",
       "</style>\n",
       "<table border=\"1\" class=\"dataframe\">\n",
       "  <thead>\n",
       "    <tr style=\"text-align: right;\">\n",
       "      <th></th>\n",
       "      <th>age</th>\n",
       "      <th>balance</th>\n",
       "      <th>duration</th>\n",
       "      <th>campaign</th>\n",
       "      <th>pdays</th>\n",
       "      <th>previous</th>\n",
       "    </tr>\n",
       "  </thead>\n",
       "  <tbody>\n",
       "    <tr>\n",
       "      <th>count</th>\n",
       "      <td>39211.000000</td>\n",
       "      <td>39211.000000</td>\n",
       "      <td>39211.000000</td>\n",
       "      <td>39211.000000</td>\n",
       "      <td>39211.000000</td>\n",
       "      <td>39211.000000</td>\n",
       "    </tr>\n",
       "    <tr>\n",
       "      <th>mean</th>\n",
       "      <td>42.120247</td>\n",
       "      <td>5441.781719</td>\n",
       "      <td>439.062789</td>\n",
       "      <td>5.108770</td>\n",
       "      <td>72.256051</td>\n",
       "      <td>11.826171</td>\n",
       "    </tr>\n",
       "    <tr>\n",
       "      <th>std</th>\n",
       "      <td>12.709352</td>\n",
       "      <td>16365.292065</td>\n",
       "      <td>769.096291</td>\n",
       "      <td>9.890153</td>\n",
       "      <td>160.942593</td>\n",
       "      <td>44.140259</td>\n",
       "    </tr>\n",
       "    <tr>\n",
       "      <th>min</th>\n",
       "      <td>18.000000</td>\n",
       "      <td>-8019.000000</td>\n",
       "      <td>0.000000</td>\n",
       "      <td>1.000000</td>\n",
       "      <td>-1.000000</td>\n",
       "      <td>0.000000</td>\n",
       "    </tr>\n",
       "    <tr>\n",
       "      <th>25%</th>\n",
       "      <td>33.000000</td>\n",
       "      <td>98.000000</td>\n",
       "      <td>109.000000</td>\n",
       "      <td>1.000000</td>\n",
       "      <td>-1.000000</td>\n",
       "      <td>0.000000</td>\n",
       "    </tr>\n",
       "    <tr>\n",
       "      <th>50%</th>\n",
       "      <td>40.000000</td>\n",
       "      <td>549.000000</td>\n",
       "      <td>197.000000</td>\n",
       "      <td>2.000000</td>\n",
       "      <td>-1.000000</td>\n",
       "      <td>0.000000</td>\n",
       "    </tr>\n",
       "    <tr>\n",
       "      <th>75%</th>\n",
       "      <td>50.000000</td>\n",
       "      <td>2030.000000</td>\n",
       "      <td>380.000000</td>\n",
       "      <td>4.000000</td>\n",
       "      <td>-1.000000</td>\n",
       "      <td>0.000000</td>\n",
       "    </tr>\n",
       "    <tr>\n",
       "      <th>max</th>\n",
       "      <td>95.000000</td>\n",
       "      <td>102127.000000</td>\n",
       "      <td>4918.000000</td>\n",
       "      <td>63.000000</td>\n",
       "      <td>871.000000</td>\n",
       "      <td>275.000000</td>\n",
       "    </tr>\n",
       "  </tbody>\n",
       "</table>\n",
       "</div>"
      ],
      "text/plain": [
       "                age        balance      duration      campaign         pdays  \\\n",
       "count  39211.000000   39211.000000  39211.000000  39211.000000  39211.000000   \n",
       "mean      42.120247    5441.781719    439.062789      5.108770     72.256051   \n",
       "std       12.709352   16365.292065    769.096291      9.890153    160.942593   \n",
       "min       18.000000   -8019.000000      0.000000      1.000000     -1.000000   \n",
       "25%       33.000000      98.000000    109.000000      1.000000     -1.000000   \n",
       "50%       40.000000     549.000000    197.000000      2.000000     -1.000000   \n",
       "75%       50.000000    2030.000000    380.000000      4.000000     -1.000000   \n",
       "max       95.000000  102127.000000   4918.000000     63.000000    871.000000   \n",
       "\n",
       "           previous  \n",
       "count  39211.000000  \n",
       "mean      11.826171  \n",
       "std       44.140259  \n",
       "min        0.000000  \n",
       "25%        0.000000  \n",
       "50%        0.000000  \n",
       "75%        0.000000  \n",
       "max      275.000000  "
      ]
     },
     "execution_count": 8,
     "metadata": {},
     "output_type": "execute_result"
    }
   ],
   "source": [
    "train_df.describe()"
   ]
  },
  {
   "cell_type": "code",
   "execution_count": 9,
   "metadata": {
    "_cell_guid": "fc089471-0ca7-48e7-ae48-7cab106e1a58",
    "_uuid": "89a96c2f-12bc-406a-84ed-7d8321f63243",
    "collapsed": false,
    "execution": {
     "iopub.execute_input": "2024-11-29T17:10:18.986608Z",
     "iopub.status.busy": "2024-11-29T17:10:18.986169Z",
     "iopub.status.idle": "2024-11-29T17:10:18.994214Z",
     "shell.execute_reply": "2024-11-29T17:10:18.992882Z",
     "shell.execute_reply.started": "2024-11-29T17:10:18.986560Z"
    },
    "jupyter": {
     "outputs_hidden": false
    },
    "trusted": true
   },
   "outputs": [
    {
     "name": "stdout",
     "output_type": "stream",
     "text": [
      "Feature list: ['last contact date' 'age' 'job' 'marital' 'education' 'default' 'balance'\n",
      " 'housing' 'loan' 'contact' 'duration' 'campaign' 'pdays' 'previous'\n",
      " 'poutcome']\n",
      "Label: ['target']\n"
     ]
    }
   ],
   "source": [
    "feature_list = train_df.columns[:-1].values\n",
    "label = [train_df.columns[-1]]\n",
    "\n",
    "print(\"Feature list:\", feature_list)\n",
    "print(\"Label:\", label)"
   ]
  },
  {
   "cell_type": "code",
   "execution_count": 10,
   "metadata": {
    "_cell_guid": "2f957fcf-26c0-4c69-a2c0-35ee5b8128bc",
    "_uuid": "1c4df65c-4cc9-4370-a124-cfef857eccc5",
    "collapsed": false,
    "execution": {
     "iopub.execute_input": "2024-11-29T17:10:19.000512Z",
     "iopub.status.busy": "2024-11-29T17:10:18.999956Z",
     "iopub.status.idle": "2024-11-29T17:10:19.043817Z",
     "shell.execute_reply": "2024-11-29T17:10:19.042337Z",
     "shell.execute_reply.started": "2024-11-29T17:10:19.000452Z"
    },
    "jupyter": {
     "outputs_hidden": false
    },
    "trusted": true
   },
   "outputs": [
    {
     "data": {
      "text/plain": [
       "last contact date        0\n",
       "age                      0\n",
       "job                    229\n",
       "marital                  0\n",
       "education             1467\n",
       "default                  0\n",
       "balance                  0\n",
       "housing                  0\n",
       "loan                     0\n",
       "contact              10336\n",
       "duration                 0\n",
       "campaign                 0\n",
       "pdays                    0\n",
       "previous                 0\n",
       "poutcome             29451\n",
       "target                   0\n",
       "dtype: int64"
      ]
     },
     "execution_count": 10,
     "metadata": {},
     "output_type": "execute_result"
    }
   ],
   "source": [
    "train_df.isnull().sum()"
   ]
  },
  {
   "cell_type": "markdown",
   "metadata": {
    "_cell_guid": "9e34b098-893a-4774-9e91-fc5c7efd4cd7",
    "_uuid": "0437c339-69d2-41c2-a3f8-bb0d8aac7903",
    "trusted": true
   },
   "source": [
    "# Finding out percentage of missing values"
   ]
  },
  {
   "cell_type": "code",
   "execution_count": 11,
   "metadata": {
    "_cell_guid": "651829bc-c32f-41a4-8338-ac9a92e7b4e8",
    "_uuid": "061f3cf5-e1bd-4654-b157-ebb6be8d57f6",
    "collapsed": false,
    "execution": {
     "iopub.execute_input": "2024-11-29T17:10:19.046191Z",
     "iopub.status.busy": "2024-11-29T17:10:19.045744Z",
     "iopub.status.idle": "2024-11-29T17:10:19.083502Z",
     "shell.execute_reply": "2024-11-29T17:10:19.082017Z",
     "shell.execute_reply.started": "2024-11-29T17:10:19.046142Z"
    },
    "jupyter": {
     "outputs_hidden": false
    },
    "trusted": true
   },
   "outputs": [
    {
     "name": "stdout",
     "output_type": "stream",
     "text": [
      "last contact date     0.000000\n",
      "age                   0.000000\n",
      "job                   0.584020\n",
      "marital               0.000000\n",
      "education             3.741297\n",
      "default               0.000000\n",
      "balance               0.000000\n",
      "housing               0.000000\n",
      "loan                  0.000000\n",
      "contact              26.359950\n",
      "duration              0.000000\n",
      "campaign              0.000000\n",
      "pdays                 0.000000\n",
      "previous              0.000000\n",
      "poutcome             75.109026\n",
      "target                0.000000\n",
      "dtype: float64\n"
     ]
    }
   ],
   "source": [
    "missing_values = train_df.isnull().sum() / len(train_df) * 100\n",
    "print(missing_values)"
   ]
  },
  {
   "cell_type": "markdown",
   "metadata": {
    "_cell_guid": "04bd37a9-c81f-4ba2-8131-836f0ff8d3ee",
    "_uuid": "643ce2d0-b56f-4a5c-bbe0-5bd00e7ff42b",
    "trusted": true
   },
   "source": [
    "# Removing columns having higher oercentage of missing values"
   ]
  },
  {
   "cell_type": "code",
   "execution_count": 12,
   "metadata": {
    "_cell_guid": "440c3018-0681-4eb8-9d57-396985cf313a",
    "_uuid": "6be9d1f2-c6e0-4fc8-9a59-0b581cee3658",
    "collapsed": false,
    "execution": {
     "iopub.execute_input": "2024-11-29T17:10:19.085698Z",
     "iopub.status.busy": "2024-11-29T17:10:19.085228Z",
     "iopub.status.idle": "2024-11-29T17:10:19.119393Z",
     "shell.execute_reply": "2024-11-29T17:10:19.117679Z",
     "shell.execute_reply.started": "2024-11-29T17:10:19.085646Z"
    },
    "jupyter": {
     "outputs_hidden": false
    },
    "trusted": true
   },
   "outputs": [
    {
     "data": {
      "text/html": [
       "<div>\n",
       "<style scoped>\n",
       "    .dataframe tbody tr th:only-of-type {\n",
       "        vertical-align: middle;\n",
       "    }\n",
       "\n",
       "    .dataframe tbody tr th {\n",
       "        vertical-align: top;\n",
       "    }\n",
       "\n",
       "    .dataframe thead th {\n",
       "        text-align: right;\n",
       "    }\n",
       "</style>\n",
       "<table border=\"1\" class=\"dataframe\">\n",
       "  <thead>\n",
       "    <tr style=\"text-align: right;\">\n",
       "      <th></th>\n",
       "      <th>last contact date</th>\n",
       "      <th>age</th>\n",
       "      <th>job</th>\n",
       "      <th>marital</th>\n",
       "      <th>education</th>\n",
       "      <th>default</th>\n",
       "      <th>balance</th>\n",
       "      <th>housing</th>\n",
       "      <th>loan</th>\n",
       "      <th>duration</th>\n",
       "      <th>campaign</th>\n",
       "      <th>pdays</th>\n",
       "      <th>previous</th>\n",
       "      <th>poutcome</th>\n",
       "      <th>target</th>\n",
       "    </tr>\n",
       "  </thead>\n",
       "  <tbody>\n",
       "    <tr>\n",
       "      <th>0</th>\n",
       "      <td>2009-04-17</td>\n",
       "      <td>26</td>\n",
       "      <td>blue-collar</td>\n",
       "      <td>married</td>\n",
       "      <td>secondary</td>\n",
       "      <td>no</td>\n",
       "      <td>647</td>\n",
       "      <td>yes</td>\n",
       "      <td>no</td>\n",
       "      <td>357</td>\n",
       "      <td>2</td>\n",
       "      <td>331</td>\n",
       "      <td>1</td>\n",
       "      <td>other</td>\n",
       "      <td>no</td>\n",
       "    </tr>\n",
       "    <tr>\n",
       "      <th>1</th>\n",
       "      <td>2009-10-11</td>\n",
       "      <td>52</td>\n",
       "      <td>technician</td>\n",
       "      <td>married</td>\n",
       "      <td>secondary</td>\n",
       "      <td>no</td>\n",
       "      <td>553</td>\n",
       "      <td>yes</td>\n",
       "      <td>no</td>\n",
       "      <td>160</td>\n",
       "      <td>1</td>\n",
       "      <td>-1</td>\n",
       "      <td>0</td>\n",
       "      <td>NaN</td>\n",
       "      <td>no</td>\n",
       "    </tr>\n",
       "    <tr>\n",
       "      <th>2</th>\n",
       "      <td>2010-11-20</td>\n",
       "      <td>44</td>\n",
       "      <td>blue-collar</td>\n",
       "      <td>married</td>\n",
       "      <td>secondary</td>\n",
       "      <td>no</td>\n",
       "      <td>1397</td>\n",
       "      <td>no</td>\n",
       "      <td>no</td>\n",
       "      <td>326</td>\n",
       "      <td>1</td>\n",
       "      <td>-1</td>\n",
       "      <td>0</td>\n",
       "      <td>NaN</td>\n",
       "      <td>no</td>\n",
       "    </tr>\n",
       "    <tr>\n",
       "      <th>3</th>\n",
       "      <td>2009-09-01</td>\n",
       "      <td>33</td>\n",
       "      <td>admin.</td>\n",
       "      <td>married</td>\n",
       "      <td>secondary</td>\n",
       "      <td>no</td>\n",
       "      <td>394</td>\n",
       "      <td>yes</td>\n",
       "      <td>no</td>\n",
       "      <td>104</td>\n",
       "      <td>3</td>\n",
       "      <td>-1</td>\n",
       "      <td>0</td>\n",
       "      <td>NaN</td>\n",
       "      <td>no</td>\n",
       "    </tr>\n",
       "    <tr>\n",
       "      <th>4</th>\n",
       "      <td>2008-01-29</td>\n",
       "      <td>31</td>\n",
       "      <td>entrepreneur</td>\n",
       "      <td>single</td>\n",
       "      <td>tertiary</td>\n",
       "      <td>no</td>\n",
       "      <td>137</td>\n",
       "      <td>no</td>\n",
       "      <td>no</td>\n",
       "      <td>445</td>\n",
       "      <td>2</td>\n",
       "      <td>-1</td>\n",
       "      <td>0</td>\n",
       "      <td>NaN</td>\n",
       "      <td>no</td>\n",
       "    </tr>\n",
       "  </tbody>\n",
       "</table>\n",
       "</div>"
      ],
      "text/plain": [
       "  last contact date  age           job  marital  education default  balance  \\\n",
       "0        2009-04-17   26   blue-collar  married  secondary      no      647   \n",
       "1        2009-10-11   52    technician  married  secondary      no      553   \n",
       "2        2010-11-20   44   blue-collar  married  secondary      no     1397   \n",
       "3        2009-09-01   33        admin.  married  secondary      no      394   \n",
       "4        2008-01-29   31  entrepreneur   single   tertiary      no      137   \n",
       "\n",
       "  housing loan  duration  campaign  pdays  previous poutcome target  \n",
       "0     yes   no       357         2    331         1    other     no  \n",
       "1     yes   no       160         1     -1         0      NaN     no  \n",
       "2      no   no       326         1     -1         0      NaN     no  \n",
       "3     yes   no       104         3     -1         0      NaN     no  \n",
       "4      no   no       445         2     -1         0      NaN     no  "
      ]
     },
     "execution_count": 12,
     "metadata": {},
     "output_type": "execute_result"
    }
   ],
   "source": [
    "train_df_cleaned = train_df.drop(columns=['contact'])\n",
    "train_df_cleaned.head()"
   ]
  },
  {
   "cell_type": "markdown",
   "metadata": {
    "_cell_guid": "db1d5341-040c-4a02-b1c6-47ad1bb4edc2",
    "_uuid": "c0ee5dd4-bc86-4989-8d9c-a7b80455e46a",
    "trusted": true
   },
   "source": [
    "# Data Visualization"
   ]
  },
  {
   "cell_type": "code",
   "execution_count": 13,
   "metadata": {
    "_cell_guid": "2c44a38a-d1ed-4d03-b33c-163269d03146",
    "_uuid": "48bc8404-f456-405f-8dfe-723a63d679c5",
    "collapsed": false,
    "execution": {
     "iopub.execute_input": "2024-11-29T17:10:19.121579Z",
     "iopub.status.busy": "2024-11-29T17:10:19.121000Z",
     "iopub.status.idle": "2024-11-29T17:10:21.519041Z",
     "shell.execute_reply": "2024-11-29T17:10:21.517307Z",
     "shell.execute_reply.started": "2024-11-29T17:10:19.121537Z"
    },
    "jupyter": {
     "outputs_hidden": false
    },
    "trusted": true
   },
   "outputs": [],
   "source": [
    "import matplotlib.pyplot as plt\n",
    "import seaborn as sns"
   ]
  },
  {
   "cell_type": "code",
   "execution_count": 14,
   "metadata": {
    "_cell_guid": "35bf12ac-17f0-45d3-a156-4c12b0df9474",
    "_uuid": "c83f6c41-f212-4f5f-b406-4e0587a4b9c1",
    "collapsed": false,
    "execution": {
     "iopub.execute_input": "2024-11-29T17:10:21.521400Z",
     "iopub.status.busy": "2024-11-29T17:10:21.520892Z",
     "iopub.status.idle": "2024-11-29T17:10:22.275322Z",
     "shell.execute_reply": "2024-11-29T17:10:22.274025Z",
     "shell.execute_reply.started": "2024-11-29T17:10:21.521363Z"
    },
    "jupyter": {
     "outputs_hidden": false
    },
    "trusted": true
   },
   "outputs": [
    {
     "name": "stderr",
     "output_type": "stream",
     "text": [
      "/opt/conda/lib/python3.10/site-packages/seaborn/_oldcore.py:1119: FutureWarning: use_inf_as_na option is deprecated and will be removed in a future version. Convert inf values to NaN before operating instead.\n",
      "  with pd.option_context('mode.use_inf_as_na', True):\n"
     ]
    },
    {
     "data": {
      "image/png": "[encoded data removed]",
      "text/plain": [
       "<Figure size 1000x600 with 1 Axes>"
      ]
     },
     "metadata": {},
     "output_type": "display_data"
    }
   ],
   "source": [
    "#age distribution\n",
    "plt.figure(figsize=(10, 6))\n",
    "sns.histplot(train_df['age'], bins=30, kde=True)\n",
    "plt.title('Age Distribution')\n",
    "plt.xlabel('Age')\n",
    "plt.ylabel('Frequency')\n",
    "plt.show()"
   ]
  },
  {
   "cell_type": "code",
   "execution_count": 15,
   "metadata": {
    "_cell_guid": "8a189f37-0f3b-43b8-8f4f-b9f5c9146350",
    "_uuid": "26395a34-7aa7-4c50-8ca4-7aa56c65e640",
    "collapsed": false,
    "execution": {
     "iopub.execute_input": "2024-11-29T17:10:22.277299Z",
     "iopub.status.busy": "2024-11-29T17:10:22.276879Z",
     "iopub.status.idle": "2024-11-29T17:10:22.583540Z",
     "shell.execute_reply": "2024-11-29T17:10:22.582273Z",
     "shell.execute_reply.started": "2024-11-29T17:10:22.277247Z"
    },
    "jupyter": {
     "outputs_hidden": false
    },
    "trusted": true
   },
   "outputs": [
    {
     "data": {
      "image/png": "[encoded data removed]",
      "text/plain": [
       "<Figure size 1000x600 with 1 Axes>"
      ]
     },
     "metadata": {},
     "output_type": "display_data"
    }
   ],
   "source": [
    "#balance distribution\n",
    "plt.figure(figsize=(10,6))\n",
    "sns.boxplot(x='target', y= 'balance', data=train_df)\n",
    "plt.title('Balance vs Target')\n",
    "plt.show()"
   ]
  },
  {
   "cell_type": "code",
   "execution_count": 16,
   "metadata": {
    "_cell_guid": "4c15506a-836a-49a3-8422-2fdf51731d5d",
    "_uuid": "caf1298a-7aa6-42cf-be22-8aee658c5b97",
    "collapsed": false,
    "execution": {
     "iopub.execute_input": "2024-11-29T17:10:22.586149Z",
     "iopub.status.busy": "2024-11-29T17:10:22.585365Z",
     "iopub.status.idle": "2024-11-29T17:10:23.062801Z",
     "shell.execute_reply": "2024-11-29T17:10:23.061204Z",
     "shell.execute_reply.started": "2024-11-29T17:10:22.586104Z"
    },
    "jupyter": {
     "outputs_hidden": false
    },
    "trusted": true
   },
   "outputs": [
    {
     "data": {
      "image/png": "[encoded data removed]",
      "text/plain": [
       "<Figure size 1000x600 with 1 Axes>"
      ]
     },
     "metadata": {},
     "output_type": "display_data"
    }
   ],
   "source": [
    "#count plot for job\n",
    "plt.figure(figsize=(10,6))\n",
    "sns.countplot(x='job',hue='target', data=train_df)\n",
    "plt.title('Job type vs target')\n",
    "plt.xticks(rotation=45)\n",
    "plt.show()"
   ]
  },
  {
   "cell_type": "code",
   "execution_count": 17,
   "metadata": {
    "_cell_guid": "4dbb2cd3-95af-4d40-abf7-65eb751004b0",
    "_uuid": "2c695183-9d09-4c0e-b1d9-4731b3ebb21a",
    "collapsed": false,
    "execution": {
     "iopub.execute_input": "2024-11-29T17:10:23.065050Z",
     "iopub.status.busy": "2024-11-29T17:10:23.064667Z",
     "iopub.status.idle": "2024-11-29T17:10:23.479283Z",
     "shell.execute_reply": "2024-11-29T17:10:23.478036Z",
     "shell.execute_reply.started": "2024-11-29T17:10:23.065013Z"
    },
    "jupyter": {
     "outputs_hidden": false
    },
    "trusted": true
   },
   "outputs": [
    {
     "data": {
      "image/png": "[encoded data removed]",
      "text/plain": [
       "<Figure size 640x480 with 1 Axes>"
      ]
     },
     "metadata": {},
     "output_type": "display_data"
    }
   ],
   "source": [
    "#plot for martial status\n",
    "sns.countplot(x='marital',hue='target', data=train_df)\n",
    "plt.title('marital status vs target')\n",
    "plt.show()"
   ]
  },
  {
   "cell_type": "markdown",
   "metadata": {
    "_cell_guid": "85507b8f-7014-43ef-94f0-5f8e7a461a96",
    "_uuid": "21980f42-2959-485c-9b22-1fbea6c54ae9",
    "trusted": true
   },
   "source": [
    "# Performing Transformation for numerical and categorical values"
   ]
  },
  {
   "cell_type": "code",
   "execution_count": 18,
   "metadata": {
    "_cell_guid": "0c6f7996-df24-4150-b1e2-7aeac9070939",
    "_uuid": "a616cf0d-fa92-44b8-a201-080b29c549ad",
    "collapsed": false,
    "execution": {
     "iopub.execute_input": "2024-11-29T17:10:23.480757Z",
     "iopub.status.busy": "2024-11-29T17:10:23.480414Z",
     "iopub.status.idle": "2024-11-29T17:10:23.627088Z",
     "shell.execute_reply": "2024-11-29T17:10:23.625827Z",
     "shell.execute_reply.started": "2024-11-29T17:10:23.480726Z"
    },
    "jupyter": {
     "outputs_hidden": false
    },
    "trusted": true
   },
   "outputs": [
    {
     "data": {
      "text/plain": [
       "Index(['last contact date', 'job', 'marital', 'education', 'default',\n",
       "       'housing', 'loan', 'poutcome'],\n",
       "      dtype='object')"
      ]
     },
     "execution_count": 18,
     "metadata": {},
     "output_type": "execute_result"
    }
   ],
   "source": [
    "from sklearn.compose import ColumnTransformer\n",
    "num_attribs = train_df_cleaned.select_dtypes(include=['int64']).columns\n",
    "cat_attribs = train_df_cleaned.select_dtypes(include=['object']).drop('target', axis=1).columns\n",
    "num_attribs\n",
    "cat_attribs"
   ]
  },
  {
   "cell_type": "code",
   "execution_count": 19,
   "metadata": {
    "_cell_guid": "3699280b-b3da-40fd-8ef8-ef94e5892d27",
    "_uuid": "386515e3-a39b-4ecf-9ede-f7dfc94140d6",
    "collapsed": false,
    "execution": {
     "iopub.execute_input": "2024-11-29T17:10:23.629514Z",
     "iopub.status.busy": "2024-11-29T17:10:23.629089Z",
     "iopub.status.idle": "2024-11-29T17:10:23.637336Z",
     "shell.execute_reply": "2024-11-29T17:10:23.636032Z",
     "shell.execute_reply.started": "2024-11-29T17:10:23.629469Z"
    },
    "jupyter": {
     "outputs_hidden": false
    },
    "trusted": true
   },
   "outputs": [
    {
     "data": {
      "text/plain": [
       "Index(['age', 'balance', 'duration', 'campaign', 'pdays', 'previous'], dtype='object')"
      ]
     },
     "execution_count": 19,
     "metadata": {},
     "output_type": "execute_result"
    }
   ],
   "source": [
    "num_attribs"
   ]
  },
  {
   "cell_type": "code",
   "execution_count": 20,
   "metadata": {
    "_cell_guid": "51b0d7a6-03c8-419f-83ce-13b8b28141e5",
    "_uuid": "a92961a5-1562-4fa3-96a4-74a256a66ba8",
    "collapsed": false,
    "execution": {
     "iopub.execute_input": "2024-11-29T17:10:23.639990Z",
     "iopub.status.busy": "2024-11-29T17:10:23.639515Z",
     "iopub.status.idle": "2024-11-29T17:10:23.654698Z",
     "shell.execute_reply": "2024-11-29T17:10:23.653339Z",
     "shell.execute_reply.started": "2024-11-29T17:10:23.639940Z"
    },
    "jupyter": {
     "outputs_hidden": false
    },
    "trusted": true
   },
   "outputs": [
    {
     "data": {
      "text/plain": [
       "Index(['last contact date', 'job', 'marital', 'education', 'default',\n",
       "       'housing', 'loan', 'poutcome'],\n",
       "      dtype='object')"
      ]
     },
     "execution_count": 20,
     "metadata": {},
     "output_type": "execute_result"
    }
   ],
   "source": [
    "cat_attribs"
   ]
  },
  {
   "cell_type": "markdown",
   "metadata": {
    "_cell_guid": "811d1705-534a-4c83-8f99-a7b421d6ec8f",
    "_uuid": "5bbe1015-70af-4249-b2a2-96da085e7eb9",
    "trusted": true
   },
   "source": [
    "# Fidning Correaltion for numerical attributes"
   ]
  },
  {
   "cell_type": "code",
   "execution_count": 21,
   "metadata": {
    "_cell_guid": "c6f6d392-d4ff-4833-a925-62429c31886b",
    "_uuid": "297cd999-a92d-42d7-bc3d-1ac4633cb346",
    "collapsed": false,
    "execution": {
     "iopub.execute_input": "2024-11-29T17:10:23.656821Z",
     "iopub.status.busy": "2024-11-29T17:10:23.656301Z",
     "iopub.status.idle": "2024-11-29T17:10:24.255381Z",
     "shell.execute_reply": "2024-11-29T17:10:24.254058Z",
     "shell.execute_reply.started": "2024-11-29T17:10:23.656783Z"
    },
    "jupyter": {
     "outputs_hidden": false
    },
    "trusted": true
   },
   "outputs": [
    {
     "data": {
      "text/plain": [
       "Text(0.5, 1.0, 'Correlation matrix of numerical attributes')"
      ]
     },
     "execution_count": 21,
     "metadata": {},
     "output_type": "execute_result"
    },
    {
     "data": {
      "image/png": "[encoded data removed]",
      "text/plain": [
       "<Figure size 1000x600 with 2 Axes>"
      ]
     },
     "metadata": {},
     "output_type": "display_data"
    }
   ],
   "source": [
    "plt.figure(figsize=(10,6))\n",
    "sns.heatmap(train_df[num_attribs].corr(), annot=True, cmap='coolwarm')\n",
    "plt.title('Correlation matrix of numerical attributes')"
   ]
  },
  {
   "cell_type": "markdown",
   "metadata": {
    "_cell_guid": "c0c99b16-d640-4b4c-980d-7bd4a0ae3397",
    "_uuid": "57c43612-199a-49b5-880c-dc51bd75c0ba",
    "trusted": true
   },
   "source": [
    "# Train Validation Split"
   ]
  },
  {
   "cell_type": "code",
   "execution_count": 22,
   "metadata": {
    "_cell_guid": "21c08dc4-ceb2-465c-9c7f-9aca4840e1bb",
    "_uuid": "b2d1be89-e0dd-4bb1-b4be-020b1fcde38c",
    "collapsed": false,
    "execution": {
     "iopub.execute_input": "2024-11-29T17:10:24.260806Z",
     "iopub.status.busy": "2024-11-29T17:10:24.257543Z",
     "iopub.status.idle": "2024-11-29T17:10:24.580745Z",
     "shell.execute_reply": "2024-11-29T17:10:24.578129Z",
     "shell.execute_reply.started": "2024-11-29T17:10:24.260742Z"
    },
    "jupyter": {
     "outputs_hidden": false
    },
    "trusted": true
   },
   "outputs": [
    {
     "name": "stdout",
     "output_type": "stream",
     "text": [
      "(33329, 15) (5882, 15)\n"
     ]
    }
   ],
   "source": [
    "from sklearn.model_selection import train_test_split\n",
    "\n",
    "x = train_df.drop('target', axis=1)\n",
    "y = train_df['target']\n",
    "\n",
    "x_train, x_val, y_train, y_val = train_test_split(x,y, test_size=0.15, random_state=42,stratify=y)\n",
    "\n",
    "print(x_train.shape, x_val.shape)"
   ]
  },
  {
   "cell_type": "code",
   "execution_count": 23,
   "metadata": {
    "_cell_guid": "cde42ee0-f97b-4f8b-8ce9-3a290e432b1c",
    "_uuid": "f5edf0be-46d2-42ba-8bb1-be8ef5dd030c",
    "collapsed": false,
    "execution": {
     "iopub.execute_input": "2024-11-29T17:10:24.583414Z",
     "iopub.status.busy": "2024-11-29T17:10:24.582584Z",
     "iopub.status.idle": "2024-11-29T17:10:24.613937Z",
     "shell.execute_reply": "2024-11-29T17:10:24.612375Z",
     "shell.execute_reply.started": "2024-11-29T17:10:24.583371Z"
    },
    "jupyter": {
     "outputs_hidden": false
    },
    "trusted": true
   },
   "outputs": [
    {
     "data": {
      "text/html": [
       "<div>\n",
       "<style scoped>\n",
       "    .dataframe tbody tr th:only-of-type {\n",
       "        vertical-align: middle;\n",
       "    }\n",
       "\n",
       "    .dataframe tbody tr th {\n",
       "        vertical-align: top;\n",
       "    }\n",
       "\n",
       "    .dataframe thead th {\n",
       "        text-align: right;\n",
       "    }\n",
       "</style>\n",
       "<table border=\"1\" class=\"dataframe\">\n",
       "  <thead>\n",
       "    <tr style=\"text-align: right;\">\n",
       "      <th></th>\n",
       "      <th>last contact date</th>\n",
       "      <th>age</th>\n",
       "      <th>job</th>\n",
       "      <th>marital</th>\n",
       "      <th>education</th>\n",
       "      <th>default</th>\n",
       "      <th>balance</th>\n",
       "      <th>housing</th>\n",
       "      <th>loan</th>\n",
       "      <th>contact</th>\n",
       "      <th>duration</th>\n",
       "      <th>campaign</th>\n",
       "      <th>pdays</th>\n",
       "      <th>previous</th>\n",
       "      <th>poutcome</th>\n",
       "    </tr>\n",
       "  </thead>\n",
       "  <tbody>\n",
       "    <tr>\n",
       "      <th>19237</th>\n",
       "      <td>2009-07-21</td>\n",
       "      <td>42</td>\n",
       "      <td>blue-collar</td>\n",
       "      <td>married</td>\n",
       "      <td>primary</td>\n",
       "      <td>no</td>\n",
       "      <td>401</td>\n",
       "      <td>yes</td>\n",
       "      <td>no</td>\n",
       "      <td>cellular</td>\n",
       "      <td>581</td>\n",
       "      <td>4</td>\n",
       "      <td>-1</td>\n",
       "      <td>0</td>\n",
       "      <td>NaN</td>\n",
       "    </tr>\n",
       "    <tr>\n",
       "      <th>23823</th>\n",
       "      <td>2010-07-21</td>\n",
       "      <td>27</td>\n",
       "      <td>admin.</td>\n",
       "      <td>married</td>\n",
       "      <td>secondary</td>\n",
       "      <td>no</td>\n",
       "      <td>436</td>\n",
       "      <td>yes</td>\n",
       "      <td>no</td>\n",
       "      <td>cellular</td>\n",
       "      <td>410</td>\n",
       "      <td>1</td>\n",
       "      <td>-1</td>\n",
       "      <td>0</td>\n",
       "      <td>NaN</td>\n",
       "    </tr>\n",
       "    <tr>\n",
       "      <th>15309</th>\n",
       "      <td>2008-05-27</td>\n",
       "      <td>36</td>\n",
       "      <td>services</td>\n",
       "      <td>divorced</td>\n",
       "      <td>secondary</td>\n",
       "      <td>no</td>\n",
       "      <td>-330</td>\n",
       "      <td>yes</td>\n",
       "      <td>yes</td>\n",
       "      <td>NaN</td>\n",
       "      <td>207</td>\n",
       "      <td>2</td>\n",
       "      <td>-1</td>\n",
       "      <td>0</td>\n",
       "      <td>NaN</td>\n",
       "    </tr>\n",
       "    <tr>\n",
       "      <th>1913</th>\n",
       "      <td>2008-11-20</td>\n",
       "      <td>35</td>\n",
       "      <td>management</td>\n",
       "      <td>married</td>\n",
       "      <td>primary</td>\n",
       "      <td>no</td>\n",
       "      <td>3369</td>\n",
       "      <td>no</td>\n",
       "      <td>no</td>\n",
       "      <td>cellular</td>\n",
       "      <td>322</td>\n",
       "      <td>1</td>\n",
       "      <td>-1</td>\n",
       "      <td>0</td>\n",
       "      <td>NaN</td>\n",
       "    </tr>\n",
       "    <tr>\n",
       "      <th>1775</th>\n",
       "      <td>2010-07-16</td>\n",
       "      <td>27</td>\n",
       "      <td>management</td>\n",
       "      <td>single</td>\n",
       "      <td>tertiary</td>\n",
       "      <td>no</td>\n",
       "      <td>151</td>\n",
       "      <td>yes</td>\n",
       "      <td>no</td>\n",
       "      <td>cellular</td>\n",
       "      <td>496</td>\n",
       "      <td>1</td>\n",
       "      <td>-1</td>\n",
       "      <td>0</td>\n",
       "      <td>NaN</td>\n",
       "    </tr>\n",
       "    <tr>\n",
       "      <th>...</th>\n",
       "      <td>...</td>\n",
       "      <td>...</td>\n",
       "      <td>...</td>\n",
       "      <td>...</td>\n",
       "      <td>...</td>\n",
       "      <td>...</td>\n",
       "      <td>...</td>\n",
       "      <td>...</td>\n",
       "      <td>...</td>\n",
       "      <td>...</td>\n",
       "      <td>...</td>\n",
       "      <td>...</td>\n",
       "      <td>...</td>\n",
       "      <td>...</td>\n",
       "      <td>...</td>\n",
       "    </tr>\n",
       "    <tr>\n",
       "      <th>31982</th>\n",
       "      <td>2008-01-29</td>\n",
       "      <td>26</td>\n",
       "      <td>unemployed</td>\n",
       "      <td>married</td>\n",
       "      <td>primary</td>\n",
       "      <td>no</td>\n",
       "      <td>205</td>\n",
       "      <td>no</td>\n",
       "      <td>no</td>\n",
       "      <td>cellular</td>\n",
       "      <td>239</td>\n",
       "      <td>1</td>\n",
       "      <td>-1</td>\n",
       "      <td>0</td>\n",
       "      <td>NaN</td>\n",
       "    </tr>\n",
       "    <tr>\n",
       "      <th>8291</th>\n",
       "      <td>2008-05-26</td>\n",
       "      <td>54</td>\n",
       "      <td>technician</td>\n",
       "      <td>married</td>\n",
       "      <td>tertiary</td>\n",
       "      <td>no</td>\n",
       "      <td>-800</td>\n",
       "      <td>yes</td>\n",
       "      <td>no</td>\n",
       "      <td>NaN</td>\n",
       "      <td>445</td>\n",
       "      <td>2</td>\n",
       "      <td>-1</td>\n",
       "      <td>0</td>\n",
       "      <td>NaN</td>\n",
       "    </tr>\n",
       "    <tr>\n",
       "      <th>4971</th>\n",
       "      <td>2009-04-22</td>\n",
       "      <td>25</td>\n",
       "      <td>student</td>\n",
       "      <td>single</td>\n",
       "      <td>secondary</td>\n",
       "      <td>no</td>\n",
       "      <td>8</td>\n",
       "      <td>no</td>\n",
       "      <td>no</td>\n",
       "      <td>cellular</td>\n",
       "      <td>107</td>\n",
       "      <td>2</td>\n",
       "      <td>-1</td>\n",
       "      <td>0</td>\n",
       "      <td>NaN</td>\n",
       "    </tr>\n",
       "    <tr>\n",
       "      <th>17252</th>\n",
       "      <td>2008-10-29</td>\n",
       "      <td>30</td>\n",
       "      <td>management</td>\n",
       "      <td>married</td>\n",
       "      <td>tertiary</td>\n",
       "      <td>no</td>\n",
       "      <td>944</td>\n",
       "      <td>no</td>\n",
       "      <td>no</td>\n",
       "      <td>cellular</td>\n",
       "      <td>251</td>\n",
       "      <td>2</td>\n",
       "      <td>-1</td>\n",
       "      <td>0</td>\n",
       "      <td>NaN</td>\n",
       "    </tr>\n",
       "    <tr>\n",
       "      <th>5331</th>\n",
       "      <td>2008-10-08</td>\n",
       "      <td>33</td>\n",
       "      <td>self-employed</td>\n",
       "      <td>single</td>\n",
       "      <td>secondary</td>\n",
       "      <td>yes</td>\n",
       "      <td>26907</td>\n",
       "      <td>yes</td>\n",
       "      <td>no</td>\n",
       "      <td>cellular</td>\n",
       "      <td>4360</td>\n",
       "      <td>3</td>\n",
       "      <td>224</td>\n",
       "      <td>40</td>\n",
       "      <td>success</td>\n",
       "    </tr>\n",
       "  </tbody>\n",
       "</table>\n",
       "<p>5882 rows × 15 columns</p>\n",
       "</div>"
      ],
      "text/plain": [
       "      last contact date  age            job   marital  education default  \\\n",
       "19237        2009-07-21   42    blue-collar   married    primary      no   \n",
       "23823        2010-07-21   27         admin.   married  secondary      no   \n",
       "15309        2008-05-27   36       services  divorced  secondary      no   \n",
       "1913         2008-11-20   35     management   married    primary      no   \n",
       "1775         2010-07-16   27     management    single   tertiary      no   \n",
       "...                 ...  ...            ...       ...        ...     ...   \n",
       "31982        2008-01-29   26     unemployed   married    primary      no   \n",
       "8291         2008-05-26   54     technician   married   tertiary      no   \n",
       "4971         2009-04-22   25        student    single  secondary      no   \n",
       "17252        2008-10-29   30     management   married   tertiary      no   \n",
       "5331         2008-10-08   33  self-employed    single  secondary     yes   \n",
       "\n",
       "       balance housing loan   contact  duration  campaign  pdays  previous  \\\n",
       "19237      401     yes   no  cellular       581         4     -1         0   \n",
       "23823      436     yes   no  cellular       410         1     -1         0   \n",
       "15309     -330     yes  yes       NaN       207         2     -1         0   \n",
       "1913      3369      no   no  cellular       322         1     -1         0   \n",
       "1775       151     yes   no  cellular       496         1     -1         0   \n",
       "...        ...     ...  ...       ...       ...       ...    ...       ...   \n",
       "31982      205      no   no  cellular       239         1     -1         0   \n",
       "8291      -800     yes   no       NaN       445         2     -1         0   \n",
       "4971         8      no   no  cellular       107         2     -1         0   \n",
       "17252      944      no   no  cellular       251         2     -1         0   \n",
       "5331     26907     yes   no  cellular      4360         3    224        40   \n",
       "\n",
       "      poutcome  \n",
       "19237      NaN  \n",
       "23823      NaN  \n",
       "15309      NaN  \n",
       "1913       NaN  \n",
       "1775       NaN  \n",
       "...        ...  \n",
       "31982      NaN  \n",
       "8291       NaN  \n",
       "4971       NaN  \n",
       "17252      NaN  \n",
       "5331   success  \n",
       "\n",
       "[5882 rows x 15 columns]"
      ]
     },
     "execution_count": 23,
     "metadata": {},
     "output_type": "execute_result"
    }
   ],
   "source": [
    "x_val"
   ]
  },
  {
   "cell_type": "markdown",
   "metadata": {
    "_cell_guid": "faa85d70-4bfe-44f9-857d-ea1833f68dcc",
    "_uuid": "dbf2df1d-194e-4f6d-a939-ba080c59c1cf",
    "trusted": true
   },
   "source": [
    "# Data Cleaning/Preprocessing"
   ]
  },
  {
   "cell_type": "code",
   "execution_count": 24,
   "metadata": {
    "_cell_guid": "d415a89a-3618-44d3-be19-aeb00e394c52",
    "_uuid": "f7a87ece-cfe2-41fc-b46e-2d0a7859368b",
    "collapsed": false,
    "execution": {
     "iopub.execute_input": "2024-11-29T17:10:24.616278Z",
     "iopub.status.busy": "2024-11-29T17:10:24.615873Z",
     "iopub.status.idle": "2024-11-29T17:10:24.955375Z",
     "shell.execute_reply": "2024-11-29T17:10:24.953501Z",
     "shell.execute_reply.started": "2024-11-29T17:10:24.616240Z"
    },
    "jupyter": {
     "outputs_hidden": false
    },
    "trusted": true
   },
   "outputs": [],
   "source": [
    "from sklearn.impute import SimpleImputer\n",
    "from sklearn.preprocessing import OneHotEncoder, LabelEncoder, StandardScaler, RobustScaler\n",
    "from sklearn.compose import ColumnTransformer\n",
    "from sklearn.feature_selection import VarianceThreshold\n",
    "from sklearn.pipeline import Pipeline"
   ]
  },
  {
   "cell_type": "markdown",
   "metadata": {
    "_cell_guid": "1c13ff52-17b9-4b25-a2f6-0b6ca80b712f",
    "_uuid": "b7b7454a-e89b-43ef-b5d3-661d36b2ddce",
    "trusted": true
   },
   "source": [
    "# Identify and treat outliers"
   ]
  },
  {
   "cell_type": "code",
   "execution_count": 25,
   "metadata": {
    "_cell_guid": "e6a32579-f207-4b0f-9fe2-81026dd6e60e",
    "_uuid": "9fb362a9-42d3-42ca-beda-369211845c9d",
    "collapsed": false,
    "execution": {
     "iopub.execute_input": "2024-11-29T17:10:24.957148Z",
     "iopub.status.busy": "2024-11-29T17:10:24.956748Z",
     "iopub.status.idle": "2024-11-29T17:10:24.966352Z",
     "shell.execute_reply": "2024-11-29T17:10:24.964688Z",
     "shell.execute_reply.started": "2024-11-29T17:10:24.957110Z"
    },
    "jupyter": {
     "outputs_hidden": false
    },
    "trusted": true
   },
   "outputs": [],
   "source": [
    "from scipy.stats import zscore\n",
    "from sklearn.preprocessing import RobustScaler\n",
    "\n",
    "def cap_outliers(df, columns, threshold=3):\n",
    "    for col in columns:\n",
    "        df[col] = np.where(\n",
    "            np.abs(zscore(df[col])) > threshold, \n",
    "            np.sign(zscore(df[col])) * threshold, \n",
    "            df[col]\n",
    "        )\n",
    "    return df"
   ]
  },
  {
   "cell_type": "markdown",
   "metadata": {
    "_cell_guid": "6acbb7f7-0112-4d9f-a0cf-53e1f39286dd",
    "_uuid": "96ab6a08-d5ce-4756-a503-e1ac82c3ae6a",
    "trusted": true
   },
   "source": [
    "# Apply outlier capping to relevant numeric columns"
   ]
  },
  {
   "cell_type": "code",
   "execution_count": 26,
   "metadata": {
    "_cell_guid": "4b048112-82e7-4944-81e4-c95fa0d80e52",
    "_uuid": "b28ba59b-bceb-4102-83cf-91a3a399983c",
    "collapsed": false,
    "execution": {
     "iopub.execute_input": "2024-11-29T17:10:24.968801Z",
     "iopub.status.busy": "2024-11-29T17:10:24.968376Z",
     "iopub.status.idle": "2024-11-29T17:10:25.032624Z",
     "shell.execute_reply": "2024-11-29T17:10:25.029335Z",
     "shell.execute_reply.started": "2024-11-29T17:10:24.968764Z"
    },
    "jupyter": {
     "outputs_hidden": false
    },
    "trusted": true
   },
   "outputs": [],
   "source": [
    "x_train = cap_outliers(x_train, num_attribs)"
   ]
  },
  {
   "cell_type": "markdown",
   "metadata": {
    "_cell_guid": "63a58e3c-bd8e-4eee-a864-c5f644abff12",
    "_uuid": "9520ce1a-88c0-4ad2-82bc-2c7bbdf22633",
    "trusted": true
   },
   "source": [
    "# Preprocessing pipeline with RobustScaler for outlier resistance"
   ]
  },
  {
   "cell_type": "code",
   "execution_count": 27,
   "metadata": {
    "_cell_guid": "524c7899-1c61-4f93-a33f-4e863e29a9ba",
    "_uuid": "0ca5c767-1c84-4753-a802-11c3e0bc17dd",
    "collapsed": false,
    "execution": {
     "iopub.execute_input": "2024-11-29T17:10:25.035303Z",
     "iopub.status.busy": "2024-11-29T17:10:25.034279Z",
     "iopub.status.idle": "2024-11-29T17:10:25.047037Z",
     "shell.execute_reply": "2024-11-29T17:10:25.044887Z",
     "shell.execute_reply.started": "2024-11-29T17:10:25.035256Z"
    },
    "jupyter": {
     "outputs_hidden": false
    },
    "trusted": true
   },
   "outputs": [],
   "source": [
    "num_transformer = Pipeline(steps=[\n",
    "    ('imputer', SimpleImputer(strategy='mean')),\n",
    "    ('scaler', RobustScaler()) \n",
    "])"
   ]
  },
  {
   "cell_type": "code",
   "execution_count": 28,
   "metadata": {
    "_cell_guid": "d407e1f8-a401-4028-9a2e-1981f4bff8b6",
    "_uuid": "2ad8bb8a-d825-4844-9fa1-76e0b210b98f",
    "collapsed": false,
    "execution": {
     "iopub.execute_input": "2024-11-29T17:10:25.062774Z",
     "iopub.status.busy": "2024-11-29T17:10:25.060840Z",
     "iopub.status.idle": "2024-11-29T17:10:25.071735Z",
     "shell.execute_reply": "2024-11-29T17:10:25.069873Z",
     "shell.execute_reply.started": "2024-11-29T17:10:25.062720Z"
    },
    "jupyter": {
     "outputs_hidden": false
    },
    "trusted": true
   },
   "outputs": [],
   "source": [
    "cat_transformer = Pipeline(steps=[\n",
    "    ('imputer', SimpleImputer(strategy='most_frequent')),\n",
    "    ('onehot', OneHotEncoder(handle_unknown='ignore'))\n",
    "])"
   ]
  },
  {
   "cell_type": "code",
   "execution_count": 29,
   "metadata": {
    "_cell_guid": "61b2af0c-6e64-4b3b-b9ef-05c4148594d4",
    "_uuid": "eb22dbe1-1dd0-45b5-a781-9e04173aba83",
    "collapsed": false,
    "execution": {
     "iopub.execute_input": "2024-11-29T17:10:25.074037Z",
     "iopub.status.busy": "2024-11-29T17:10:25.073510Z",
     "iopub.status.idle": "2024-11-29T17:10:25.096805Z",
     "shell.execute_reply": "2024-11-29T17:10:25.094987Z",
     "shell.execute_reply.started": "2024-11-29T17:10:25.073986Z"
    },
    "jupyter": {
     "outputs_hidden": false
    },
    "trusted": true
   },
   "outputs": [],
   "source": [
    "# preprocessing for both numeric and categorical\n",
    "preprocessor = ColumnTransformer(\n",
    "                    transformers=[\n",
    "                        ('num', num_transformer, num_attribs),\n",
    "                        ('cat', cat_transformer, cat_attribs)\n",
    "                    ])"
   ]
  },
  {
   "cell_type": "code",
   "execution_count": 30,
   "metadata": {
    "_cell_guid": "28724832-281e-4452-86af-dc1de78f92d7",
    "_uuid": "ef39e204-a18f-4a67-9a60-b1db9ae7f7ae",
    "collapsed": false,
    "execution": {
     "iopub.execute_input": "2024-11-29T17:10:25.099368Z",
     "iopub.status.busy": "2024-11-29T17:10:25.098805Z",
     "iopub.status.idle": "2024-11-29T17:10:25.119902Z",
     "shell.execute_reply": "2024-11-29T17:10:25.116773Z",
     "shell.execute_reply.started": "2024-11-29T17:10:25.099320Z"
    },
    "jupyter": {
     "outputs_hidden": false
    },
    "trusted": true
   },
   "outputs": [],
   "source": [
    "#Adding variance threshold\n",
    "full_pipeline  = Pipeline(steps=[\n",
    "    ('preprocessing', preprocessor),\n",
    "    ('selector', VarianceThreshold(threshold=0.01))\n",
    "])"
   ]
  },
  {
   "cell_type": "code",
   "execution_count": 31,
   "metadata": {
    "_cell_guid": "5dcf932f-7992-411c-a189-d67ccb92a2b9",
    "_uuid": "3dbc4290-dcf3-409f-8326-ebd0b9a08d53",
    "collapsed": false,
    "execution": {
     "iopub.execute_input": "2024-11-29T17:10:25.123007Z",
     "iopub.status.busy": "2024-11-29T17:10:25.122368Z",
     "iopub.status.idle": "2024-11-29T17:10:25.399253Z",
     "shell.execute_reply": "2024-11-29T17:10:25.397545Z",
     "shell.execute_reply.started": "2024-11-29T17:10:25.122962Z"
    },
    "jupyter": {
     "outputs_hidden": false
    },
    "trusted": true
   },
   "outputs": [],
   "source": [
    "# Fit and transform the data\n",
    "x_train_processed = full_pipeline.fit_transform(x_train)\n",
    "x_val_processed = full_pipeline.transform(x_val)\n",
    "test_df_processed = full_pipeline.transform(test_df)"
   ]
  },
  {
   "cell_type": "markdown",
   "metadata": {
    "_cell_guid": "61cd5258-734a-47d2-8b0d-3ab7b768461e",
    "_uuid": "9fbb66f1-55f6-40c5-9819-e82ec962bfe7",
    "trusted": true
   },
   "source": [
    "# SMOTE"
   ]
  },
  {
   "cell_type": "code",
   "execution_count": 32,
   "metadata": {
    "_cell_guid": "740ef650-678e-4da3-99c8-38fd8ef8edd7",
    "_uuid": "805f9f0e-a983-481f-81df-c3b6b50a1673",
    "collapsed": false,
    "execution": {
     "iopub.execute_input": "2024-11-29T17:10:25.401577Z",
     "iopub.status.busy": "2024-11-29T17:10:25.401153Z",
     "iopub.status.idle": "2024-11-29T17:10:28.517331Z",
     "shell.execute_reply": "2024-11-29T17:10:28.516147Z",
     "shell.execute_reply.started": "2024-11-29T17:10:25.401539Z"
    },
    "jupyter": {
     "outputs_hidden": false
    },
    "trusted": true
   },
   "outputs": [],
   "source": [
    "from imblearn.over_sampling import SMOTE\n",
    "\n",
    "smote = SMOTE(random_state=42)\n",
    "x_train_balanced, y_train_balanced = smote.fit_resample(x_train_processed, y_train)"
   ]
  },
  {
   "cell_type": "markdown",
   "metadata": {
    "_cell_guid": "5a3dc717-1b0a-4bcb-9ee2-c892bee59ce3",
    "_uuid": "8eb314da-22a8-4897-92e8-798d3bf6ad28",
    "trusted": true
   },
   "source": [
    "# Using Logistic regression as a Baseline Model"
   ]
  },
  {
   "cell_type": "code",
   "execution_count": 33,
   "metadata": {
    "_cell_guid": "f454fd56-0aa2-435f-b6db-45b80aeaef14",
    "_uuid": "afb424cc-e032-4441-b548-dd0200b9f7e3",
    "collapsed": false,
    "execution": {
     "iopub.execute_input": "2024-11-29T17:10:28.520348Z",
     "iopub.status.busy": "2024-11-29T17:10:28.519562Z",
     "iopub.status.idle": "2024-11-29T17:10:28.526794Z",
     "shell.execute_reply": "2024-11-29T17:10:28.525194Z",
     "shell.execute_reply.started": "2024-11-29T17:10:28.520293Z"
    },
    "jupyter": {
     "outputs_hidden": false
    },
    "trusted": true
   },
   "outputs": [],
   "source": [
    "from sklearn.linear_model import LogisticRegression"
   ]
  },
  {
   "cell_type": "code",
   "execution_count": 34,
   "metadata": {
    "_cell_guid": "62f84386-474a-4283-a6c7-0ca0578aaa8d",
    "_uuid": "04dd6b5c-aa51-49a7-8c69-1652598befeb",
    "collapsed": false,
    "execution": {
     "iopub.execute_input": "2024-11-29T17:10:28.528573Z",
     "iopub.status.busy": "2024-11-29T17:10:28.528147Z",
     "iopub.status.idle": "2024-11-29T17:10:28.546857Z",
     "shell.execute_reply": "2024-11-29T17:10:28.545515Z",
     "shell.execute_reply.started": "2024-11-29T17:10:28.528537Z"
    },
    "jupyter": {
     "outputs_hidden": false
    },
    "trusted": true
   },
   "outputs": [],
   "source": [
    "model = LogisticRegression(max_iter=2000)"
   ]
  },
  {
   "cell_type": "markdown",
   "metadata": {
    "_cell_guid": "2581af9b-7a60-4466-98df-8ce621093223",
    "_uuid": "820b4540-ee6f-4f34-bf51-3840bde6fb7b",
    "trusted": true
   },
   "source": [
    "# Selecting important feature"
   ]
  },
  {
   "cell_type": "code",
   "execution_count": 35,
   "metadata": {
    "_cell_guid": "dbfb5933-d5a6-4157-8272-fba5ebbeb0e6",
    "_uuid": "e6df6151-4897-423e-842f-a87c9c8482b6",
    "collapsed": false,
    "execution": {
     "iopub.execute_input": "2024-11-29T17:10:28.548743Z",
     "iopub.status.busy": "2024-11-29T17:10:28.548218Z",
     "iopub.status.idle": "2024-11-29T17:10:28.564314Z",
     "shell.execute_reply": "2024-11-29T17:10:28.562796Z",
     "shell.execute_reply.started": "2024-11-29T17:10:28.548597Z"
    },
    "jupyter": {
     "outputs_hidden": false
    },
    "trusted": true
   },
   "outputs": [],
   "source": [
    "from sklearn.feature_selection import SequentialFeatureSelector\n",
    "\n",
    "sfs = SequentialFeatureSelector(model, direction='backward', scoring='accuracy', cv=5, n_features_to_select='auto')"
   ]
  },
  {
   "cell_type": "code",
   "execution_count": null,
   "metadata": {
    "_cell_guid": "84b9d416-ea8b-4d0f-9004-f578de90cfd6",
    "_uuid": "5cf1a532-7d82-4394-9bcb-fec440bb2e5d",
    "collapsed": false,
    "execution": {
     "iopub.execute_input": "2024-11-29T17:10:28.567740Z",
     "iopub.status.busy": "2024-11-29T17:10:28.566243Z"
    },
    "jupyter": {
     "outputs_hidden": false
    },
    "trusted": true
   },
   "outputs": [],
   "source": [
    "# Fit SFS on the processed training data\n",
    "x_train_selected = sfs.fit_transform(x_train_balanced, y_train_balanced)\n",
    "x_val_selected = sfs.transform(x_val_processed)\n",
    "x_val_selected_lr = x_val_selected"
   ]
  },
  {
   "cell_type": "code",
   "execution_count": null,
   "metadata": {
    "_cell_guid": "abbf1fe2-55bc-49bb-8e03-5df2ddf1a5a4",
    "_uuid": "5147d03a-2024-4ef2-be4f-92af2c97d976",
    "collapsed": false,
    "jupyter": {
     "outputs_hidden": false
    },
    "trusted": true
   },
   "outputs": [],
   "source": [
    "test_df_selected = sfs.transform(test_df_processed)"
   ]
  },
  {
   "cell_type": "markdown",
   "metadata": {
    "_cell_guid": "dd886407-3b8a-4617-a213-55877056e41a",
    "_uuid": "e10fff7d-3e28-4379-97d8-3f177a8cb5e3",
    "trusted": true
   },
   "source": [
    "# Hyper parameter tunnning with GridCV"
   ]
  },
  {
   "cell_type": "code",
   "execution_count": null,
   "metadata": {
    "_cell_guid": "1ecfb2f2-8014-451d-988f-90f6ea27e2cd",
    "_uuid": "553bd426-5d27-467e-a812-df4295c52527",
    "collapsed": false,
    "jupyter": {
     "outputs_hidden": false
    },
    "trusted": true
   },
   "outputs": [],
   "source": [
    "from sklearn.linear_model import LogisticRegression\n",
    "from sklearn.metrics import accuracy_score, classification_report\n",
    "from sklearn.model_selection import cross_val_score"
   ]
  },
  {
   "cell_type": "code",
   "execution_count": null,
   "metadata": {
    "_cell_guid": "e7308533-43e1-4e8a-8738-d24fc363126d",
    "_uuid": "43130222-a6a2-497d-a425-c4183234cc30",
    "trusted": true
   },
   "outputs": [],
   "source": [
    "param_grid = [\n",
    "    {\n",
    "        'C': [1e-4, 1e-3, 1e-2, 1e-1, 1.0, 10.0, 100.0],\n",
    "        'solver': ['liblinear'],\n",
    "        'class_weight': ['balanced', None],\n",
    "        'penalty': ['l1', 'l2']\n",
    "    },\n",
    "    {\n",
    "        'C': [1e-4, 1e-3, 1e-2, 1e-1, 1.0, 10.0, 100.0],\n",
    "        'solver': ['saga'],\n",
    "        'class_weight': ['balanced', None],\n",
    "        'penalty': ['l1', 'l2', 'elasticnet'],\n",
    "        'l1_ratio': [0.1, 0.5, 0.9] \n",
    "    },\n",
    "    {\n",
    "        'C': [1e-4, 1e-3, 1e-2, 1e-1, 1.0, 10.0, 100.0],\n",
    "        'solver': ['newton-cholesky'],\n",
    "        'class_weight': ['balanced', None],\n",
    "        'penalty': ['l2']\n",
    "    }\n",
    "]\n"
   ]
  },
  {
   "cell_type": "markdown",
   "metadata": {},
   "source": [
    "# Using Exhaustive search for all possible models"
   ]
  },
  {
   "cell_type": "code",
   "execution_count": null,
   "metadata": {
    "_cell_guid": "f1a264a0-d674-4470-a38f-81ac4bcf7bd9",
    "_uuid": "ed87936b-a5c2-4467-a280-416fc9ee5dbe",
    "collapsed": false,
    "jupyter": {
     "outputs_hidden": false
    },
    "trusted": true
   },
   "outputs": [],
   "source": [
    "from sklearn.model_selection import GridSearchCV\n",
    "# Set up GridSearchCV\n",
    "grid_search = GridSearchCV(\n",
    "    estimator=model,\n",
    "    param_grid=param_grid,\n",
    "    cv=5,\n",
    "    scoring='accuracy',\n",
    "    n_jobs=-1,\n",
    "    error_score='raise'  # Helps debug errors\n",
    ")"
   ]
  },
  {
   "cell_type": "code",
   "execution_count": null,
   "metadata": {
    "trusted": true
   },
   "outputs": [],
   "source": [
    "grid_search.fit(x_train_selected, y_train_balanced)"
   ]
  },
  {
   "cell_type": "code",
   "execution_count": null,
   "metadata": {
    "trusted": true
   },
   "outputs": [],
   "source": [
    "# Display best parameters and score\n",
    "print(\"Best Parameters:\", grid_search.best_params_)\n",
    "print(\"Best Score:\", grid_search.best_score_)"
   ]
  },
  {
   "cell_type": "code",
   "execution_count": null,
   "metadata": {
    "trusted": true
   },
   "outputs": [],
   "source": [
    "best_params = grid_search.best_params_\n",
    "final_model = LogisticRegression(**best_params, max_iter=2000)"
   ]
  },
  {
   "cell_type": "markdown",
   "metadata": {},
   "source": [
    "# Fitting the best model"
   ]
  },
  {
   "cell_type": "code",
   "execution_count": null,
   "metadata": {
    "trusted": true
   },
   "outputs": [],
   "source": [
    "# Fit the final model on the training data\n",
    "final_model.fit(x_train_selected, y_train_balanced)"
   ]
  },
  {
   "cell_type": "markdown",
   "metadata": {
    "_cell_guid": "cb42fc46-b203-4a26-a263-7bdec7ff5cb2",
    "_uuid": "0ea10466-6fbf-45f3-b933-64557058fea9",
    "trusted": true
   },
   "source": [
    "# Validation test"
   ]
  },
  {
   "cell_type": "code",
   "execution_count": null,
   "metadata": {
    "_cell_guid": "dfd9003b-d4f8-4bea-9920-9df9d80dd0f4",
    "_uuid": "9451f823-8ad4-4a30-9e26-4191180af669",
    "collapsed": false,
    "jupyter": {
     "outputs_hidden": false
    },
    "trusted": true
   },
   "outputs": [],
   "source": [
    "#make prediction\n",
    "y_val_pred = final_model.predict(x_val_selected)\n",
    "y_val_pred"
   ]
  },
  {
   "cell_type": "markdown",
   "metadata": {},
   "source": [
    "# Confusion Matrix"
   ]
  },
  {
   "cell_type": "code",
   "execution_count": null,
   "metadata": {
    "trusted": true
   },
   "outputs": [],
   "source": [
    "from sklearn.metrics import confusion_matrix, ConfusionMatrixDisplay\n",
    "import matplotlib.pyplot as plt"
   ]
  },
  {
   "cell_type": "code",
   "execution_count": null,
   "metadata": {
    "trusted": true
   },
   "outputs": [],
   "source": [
    "# Initialize a figure for displaying all confusion matrices\n",
    "fig, axes = plt.subplots(1, 3, figsize=(18, 6))"
   ]
  },
  {
   "cell_type": "code",
   "execution_count": null,
   "metadata": {
    "trusted": true
   },
   "outputs": [],
   "source": [
    "# Predict on the validation set\n",
    "y_val_pred = final_model.predict(x_val_selected)\n",
    "\n",
    "# Compute confusion matrix\n",
    "cm = confusion_matrix(y_val, y_val_pred)\n",
    "\n",
    "# Plot confusion matrix\n",
    "disp = ConfusionMatrixDisplay(confusion_matrix=cm, display_labels=final_model.classes_)\n",
    "disp.plot(cmap='Blues', colorbar=True)\n",
    "plt.title(\"Logistic Regression Confusion Matrix\")\n",
    "plt.show()"
   ]
  },
  {
   "cell_type": "markdown",
   "metadata": {},
   "source": [
    "# Scoring Report"
   ]
  },
  {
   "cell_type": "code",
   "execution_count": null,
   "metadata": {
    "trusted": true
   },
   "outputs": [],
   "source": [
    "from sklearn.metrics import accuracy_score, precision_score, recall_score, f1_score, classification_report"
   ]
  },
  {
   "cell_type": "code",
   "execution_count": null,
   "metadata": {
    "trusted": true
   },
   "outputs": [],
   "source": [
    "y_val_pred = final_model.predict(x_val_selected)\n",
    "\n",
    "# Calculate metrics\n",
    "accuracy = accuracy_score(y_val, y_val_pred)\n",
    "precision = precision_score(y_val, y_val_pred, pos_label='yes')\n",
    "recall = recall_score(y_val, y_val_pred, pos_label='yes')\n",
    "f1 = f1_score(y_val, y_val_pred, pos_label='yes')\n",
    "\n",
    "print(f\"Accuracy: {accuracy:.4f}\")\n",
    "print(f\"Precision: {precision:.4f}\")\n",
    "print(f\"Recall: {recall:.4f}\")\n",
    "print(f\"F1-Score: {f1:.4f}\")\n",
    "print(\"\\nClassification Report:\\n\")\n",
    "print(classification_report(y_val, y_val_pred, target_names=['no', 'yes']))\n",
    "print(\"\\n\")"
   ]
  },
  {
   "cell_type": "markdown",
   "metadata": {
    "_cell_guid": "6d15a967-7eef-4054-9f73-73269b3c8a5c",
    "_uuid": "43c39e84-21e7-48b6-8960-6e4641cd9095",
    "trusted": true
   },
   "source": [
    "# Test set"
   ]
  },
  {
   "cell_type": "code",
   "execution_count": null,
   "metadata": {
    "_cell_guid": "99cd40b4-00c6-4fa4-9804-86f0c8fcab4a",
    "_uuid": "bbd6c821-8e35-4539-9d97-d5f64838219b",
    "collapsed": false,
    "jupyter": {
     "outputs_hidden": false
    },
    "trusted": true
   },
   "outputs": [],
   "source": [
    "y_test_pred = final_model.predict(test_df_selected)\n",
    "y_test_pred"
   ]
  },
  {
   "cell_type": "code",
   "execution_count": null,
   "metadata": {
    "_cell_guid": "8606103d-991f-4ddd-9a47-1d6f646dc9f3",
    "_uuid": "7abc92cd-a58f-4967-8b2b-130fc3692151",
    "collapsed": false,
    "jupyter": {
     "outputs_hidden": false
    },
    "trusted": true
   },
   "outputs": [],
   "source": [
    "submission = pd.DataFrame({\"id\" : range(0,test_df.shape[0]),\n",
    "                          \"target\" : y_test_pred})"
   ]
  },
  {
   "cell_type": "code",
   "execution_count": null,
   "metadata": {
    "_cell_guid": "af771e5e-21e8-488f-a0bd-31f58e5ab586",
    "_uuid": "b1f89281-6248-48b1-b6f4-3cb42c5043d3",
    "collapsed": false,
    "jupyter": {
     "outputs_hidden": false
    },
    "trusted": true
   },
   "outputs": [],
   "source": [
    "submission.to_csv('submission.csv', index=False)"
   ]
  },
  {
   "cell_type": "code",
   "execution_count": null,
   "metadata": {
    "_cell_guid": "0fd8ef6d-6610-407e-a34e-f8937903e508",
    "_uuid": "1fcdc403-c01a-4daa-b0d6-6baf8543f918",
    "collapsed": false,
    "jupyter": {
     "outputs_hidden": false
    },
    "trusted": true
   },
   "outputs": [],
   "source": [
    "# print(\"Validation Accuracy:\", accuracy_score(y_val, y_pred))\n",
    "# print(\"Classification Report:\\n\", classification_report(y_val, y_pred))"
   ]
  },
  {
   "cell_type": "markdown",
   "metadata": {},
   "source": []
  },
  {
   "cell_type": "markdown",
   "metadata": {
    "_cell_guid": "4ff897e4-faa0-4fca-93cd-b62cdc46e52b",
    "_uuid": "c1abb755-c39e-4eb4-9fc3-1987e6c4141d",
    "trusted": true
   },
   "source": [
    "# DummyClassifier as a base model"
   ]
  },
  {
   "cell_type": "code",
   "execution_count": null,
   "metadata": {
    "_cell_guid": "a48eedd8-fcdf-4114-ba7e-d68bd7efff11",
    "_uuid": "457a41c4-d4da-461e-866e-041778ff008f",
    "collapsed": false,
    "jupyter": {
     "outputs_hidden": false
    },
    "trusted": true
   },
   "outputs": [],
   "source": [
    "from sklearn.dummy import DummyClassifier"
   ]
  },
  {
   "cell_type": "code",
   "execution_count": null,
   "metadata": {
    "_cell_guid": "b6ac0a47-2932-45f4-9c21-892496e42209",
    "_uuid": "da074bf0-baf3-40d7-8848-bf5cd27e1e26",
    "collapsed": false,
    "jupyter": {
     "outputs_hidden": false
    },
    "trusted": true
   },
   "outputs": [],
   "source": [
    "dummy_clf = DummyClassifier(strategy='most_frequent')\n",
    "dummy_clf.fit(x_train,y_train)"
   ]
  },
  {
   "cell_type": "markdown",
   "metadata": {
    "_cell_guid": "0aa654dc-f6d9-46e1-82fc-7b189a8d9208",
    "_uuid": "f013e348-6a40-4529-90bb-4b77630aa1d3",
    "trusted": true
   },
   "source": [
    "# Validation set"
   ]
  },
  {
   "cell_type": "code",
   "execution_count": null,
   "metadata": {
    "_cell_guid": "07c9ac68-bd14-4411-87be-fcede17e0d04",
    "_uuid": "9b08d02c-665d-418e-b673-533982d3c158",
    "collapsed": false,
    "jupyter": {
     "outputs_hidden": false
    },
    "trusted": true
   },
   "outputs": [],
   "source": [
    "y_dummy_pred = dummy_clf.predict(x_val)\n",
    "y_dummy_pred"
   ]
  },
  {
   "cell_type": "code",
   "execution_count": null,
   "metadata": {
    "_cell_guid": "47a8c721-a6ad-4e3c-b5a9-3b482d9f76a4",
    "_uuid": "6aaea0c7-2935-4754-9edd-6873d66084fa",
    "collapsed": false,
    "jupyter": {
     "outputs_hidden": false
    },
    "trusted": true
   },
   "outputs": [],
   "source": [
    "print(f\"Dummy Classifier Accuracy: {accuracy_score(y_val, y_dummy_pred)}\")\n",
    "print(classification_report(y_val, y_dummy_pred))"
   ]
  },
  {
   "cell_type": "markdown",
   "metadata": {
    "_cell_guid": "5d8e557b-1c3d-48b9-a4bb-20c1af553742",
    "_uuid": "255ec980-b19b-4a28-a544-5ca596877832",
    "trusted": true
   },
   "source": [
    "# Test Set"
   ]
  },
  {
   "cell_type": "code",
   "execution_count": null,
   "metadata": {
    "_cell_guid": "c6fdf2f7-5adb-4dab-bf97-06790cf009e6",
    "_uuid": "93709265-ddca-447d-8a9c-5b732eb97121",
    "collapsed": false,
    "jupyter": {
     "outputs_hidden": false
    },
    "trusted": true
   },
   "outputs": [],
   "source": [
    "# y_test_pred = dummy_clf.predict(test_df)\n",
    "# y_test_pred"
   ]
  },
  {
   "cell_type": "code",
   "execution_count": null,
   "metadata": {
    "_cell_guid": "0bc73a98-28aa-4146-b2b1-1797214c5083",
    "_uuid": "8929a2a8-abc5-4a51-9fc3-a8e0239c871c",
    "collapsed": false,
    "jupyter": {
     "outputs_hidden": false
    },
    "trusted": true
   },
   "outputs": [],
   "source": [
    "# submission = pd.DataFrame({\"id\" : range(0,test_df.shape[0]),\n",
    "#                           \"target\" : y_test_pred})"
   ]
  },
  {
   "cell_type": "code",
   "execution_count": null,
   "metadata": {
    "_cell_guid": "3f4940d5-8578-49f5-85ed-43f26b578227",
    "_uuid": "49392de0-dc13-4575-b66a-7ea16324c686",
    "collapsed": false,
    "jupyter": {
     "outputs_hidden": false
    },
    "trusted": true
   },
   "outputs": [],
   "source": [
    "# submission.to_csv('submission.csv', index=False)"
   ]
  },
  {
   "cell_type": "markdown",
   "metadata": {},
   "source": [
    "# Model 2"
   ]
  },
  {
   "cell_type": "code",
   "execution_count": null,
   "metadata": {
    "trusted": true
   },
   "outputs": [],
   "source": [
    "from sklearn.feature_selection import SelectKBest, mutual_info_classif\n",
    "from sklearn.linear_model import SGDClassifier\n",
    "from sklearn.linear_model import LogisticRegression\n",
    "from sklearn.metrics import accuracy_score, classification_report\n",
    "from sklearn.model_selection import cross_val_score"
   ]
  },
  {
   "cell_type": "code",
   "execution_count": null,
   "metadata": {
    "trusted": true
   },
   "outputs": [],
   "source": [
    "sgd_model = SGDClassifier(random_state=42, max_iter=1000)"
   ]
  },
  {
   "cell_type": "code",
   "execution_count": null,
   "metadata": {
    "trusted": true
   },
   "outputs": [],
   "source": [
    "param_grid = {\n",
    "    'loss': ['hinge', 'log', 'modified_huber', 'squared_hinge', 'perceptron'],\n",
    "    'alpha': [1e-4, 1e-3, 1e-2, 1e-1],\n",
    "    'penalty': ['l2', 'l1', 'elasticnet'],\n",
    "    'learning_rate': ['optimal', 'constant', 'invscaling', 'adaptive'],\n",
    "    'eta0': [0.001, 0.01, 0.1]  \n",
    "}"
   ]
  },
  {
   "cell_type": "code",
   "execution_count": null,
   "metadata": {
    "trusted": true
   },
   "outputs": [],
   "source": [
    "from sklearn.model_selection import GridSearchCV\n",
    "# Set up GridSearchCV\n",
    "grid_search_sgd = GridSearchCV(\n",
    "    estimator=sgd_model,\n",
    "    param_grid=param_grid,\n",
    "    scoring='accuracy',\n",
    "    cv=5,\n",
    "    n_jobs=-1,\n",
    ")"
   ]
  },
  {
   "cell_type": "code",
   "execution_count": null,
   "metadata": {
    "trusted": true
   },
   "outputs": [],
   "source": [
    "grid_search_sgd.fit(x_train_selected, y_train_balanced)"
   ]
  },
  {
   "cell_type": "code",
   "execution_count": null,
   "metadata": {
    "trusted": true
   },
   "outputs": [],
   "source": [
    "# Display best parameters and score\n",
    "print(\"Best Parameters:\", grid_search_sgd.best_params_)\n",
    "print(\"Best Score:\", grid_search_sgd.best_score_)"
   ]
  },
  {
   "cell_type": "code",
   "execution_count": null,
   "metadata": {
    "trusted": true
   },
   "outputs": [],
   "source": [
    "best_model_sgd = grid_search_sgd.best_estimator_\n",
    "best_params_sgd = grid_search_sgd.best_params_\n",
    "print(\"Best parameters:\", best_params_sgd)"
   ]
  },
  {
   "cell_type": "code",
   "execution_count": null,
   "metadata": {
    "trusted": true
   },
   "outputs": [],
   "source": [
    "#make prediction\n",
    "y_val_pred = best_model_sgd.predict(x_val_selected)\n",
    "y_val_pred"
   ]
  },
  {
   "cell_type": "markdown",
   "metadata": {},
   "source": [
    "# Confusion Matrix"
   ]
  },
  {
   "cell_type": "code",
   "execution_count": null,
   "metadata": {
    "trusted": true
   },
   "outputs": [],
   "source": [
    "# Initialize a figure for displaying all confusion matrices\n",
    "fig, axes = plt.subplots(1, 3, figsize=(18, 6))"
   ]
  },
  {
   "cell_type": "code",
   "execution_count": null,
   "metadata": {
    "trusted": true
   },
   "outputs": [],
   "source": [
    "# Predict on the validation set\n",
    "y_val_pred = best_model_sgd.predict(x_val_selected)\n",
    "\n",
    "# Compute confusion matrix\n",
    "cm = confusion_matrix(y_val, y_val_pred)\n",
    "\n",
    "# Plot confusion matrix\n",
    "disp = ConfusionMatrixDisplay(confusion_matrix=cm, display_labels=best_model_sgd.classes_)\n",
    "disp.plot(cmap='Blues', colorbar=True)\n",
    "plt.title(\"SGD Regression Confusion Matrix\")\n",
    "plt.show()"
   ]
  },
  {
   "cell_type": "markdown",
   "metadata": {},
   "source": [
    "# Scoring Report "
   ]
  },
  {
   "cell_type": "code",
   "execution_count": null,
   "metadata": {
    "trusted": true
   },
   "outputs": [],
   "source": [
    "y_val_pred = best_model_sgd.predict(x_val_selected)\n",
    "\n",
    "# Calculate metrics\n",
    "accuracy = accuracy_score(y_val, y_val_pred)\n",
    "precision = precision_score(y_val, y_val_pred, pos_label='yes')\n",
    "recall = recall_score(y_val, y_val_pred, pos_label='yes')\n",
    "f1 = f1_score(y_val, y_val_pred, pos_label='yes')\n",
    "\n",
    "print(f\"Accuracy: {accuracy:.4f}\")\n",
    "print(f\"Precision: {precision:.4f}\")\n",
    "print(f\"Recall: {recall:.4f}\")\n",
    "print(f\"F1-Score: {f1:.4f}\")\n",
    "print(\"\\nClassification Report:\\n\")\n",
    "print(classification_report(y_val, y_val_pred, target_names=['no', 'yes']))\n",
    "print(\"\\n\")"
   ]
  },
  {
   "cell_type": "markdown",
   "metadata": {},
   "source": [
    "# Model 3"
   ]
  },
  {
   "cell_type": "code",
   "execution_count": null,
   "metadata": {
    "trusted": true
   },
   "outputs": [],
   "source": [
    "from sklearn.linear_model import SGDClassifier\n",
    "from sklearn.ensemble import RandomForestClassifier\n",
    "from sklearn.feature_selection import SelectFromModel\n",
    "from sklearn.model_selection import RandomizedSearchCV"
   ]
  },
  {
   "cell_type": "code",
   "execution_count": null,
   "metadata": {
    "trusted": true
   },
   "outputs": [],
   "source": [
    "# Define Random Forest Model\n",
    "rf_model = RandomForestClassifier(random_state=42)"
   ]
  },
  {
   "cell_type": "code",
   "execution_count": null,
   "metadata": {
    "trusted": true
   },
   "outputs": [],
   "source": [
    "from sklearn.inspection import permutation_importance\n",
    "import numpy as np\n",
    "from sklearn.tree import DecisionTreeClassifier\n",
    "\n",
    "x_train_balanced_dense = x_train_balanced.toarray() if hasattr(x_train_balanced, \"toarray\") else x_train_balanced\n",
    "x_val_processed_dense = x_val_processed.toarray() if hasattr(x_val_processed, \"toarray\") else x_val_processed\n",
    "test_df_processed_dense = test_df_processed.toarray() if hasattr(test_df_processed, \"toarray\") else test_df_processed\n",
    "\n",
    "estimator = DecisionTreeClassifier(random_state=42)\n",
    "estimator.fit(x_train_balanced_dense, y_train_balanced)\n",
    "\n",
    "perm_importance = permutation_importance(\n",
    "    estimator, \n",
    "    x_train_balanced_dense, \n",
    "    y_train_balanced, \n",
    "    n_repeats=10,  \n",
    "    random_state=42, \n",
    "    scoring=\"accuracy\" \n",
    ")\n",
    "\n",
    "for i in range(len(perm_importance.importances_mean)):\n",
    "    print(f\"Feature {i}: Importance {perm_importance.importances_mean[i]:.4f}\")\n",
    "\n",
    "threshold = 0.01\n",
    "selected_features_indices = np.where(perm_importance.importances_mean > threshold)[0]\n",
    "\n",
    "x_train_selected = x_train_balanced_dense[:, selected_features_indices]\n",
    "x_val_selected = x_val_processed_dense[:, selected_features_indices]\n",
    "x_val_selected_rf = x_val_selected\n",
    "test_df_selected = test_df_processed_dense[:, selected_features_indices]\n",
    "\n",
    "print(f\"Selected feature indices: {selected_features_indices}\")"
   ]
  },
  {
   "cell_type": "code",
   "execution_count": null,
   "metadata": {
    "trusted": true
   },
   "outputs": [],
   "source": [
    "param_dist = {\n",
    "    'n_estimators': [100, 200, 300, 500],\n",
    "    'max_depth': [None, 10, 20, 30, 40],\n",
    "    'min_samples_split': [2, 5, 10],\n",
    "    'min_samples_leaf': [1, 2, 4],\n",
    "    'bootstrap': [True, False]\n",
    "}"
   ]
  },
  {
   "cell_type": "code",
   "execution_count": null,
   "metadata": {
    "trusted": true
   },
   "outputs": [],
   "source": [
    "random_search = RandomizedSearchCV(\n",
    "    estimator=rf_model,\n",
    "    param_distributions=param_dist,\n",
    "    n_iter=50,  \n",
    "    cv=5,  \n",
    "    scoring='accuracy',\n",
    "    n_jobs=-1,\n",
    "    random_state=42\n",
    ")"
   ]
  },
  {
   "cell_type": "code",
   "execution_count": null,
   "metadata": {
    "trusted": true
   },
   "outputs": [],
   "source": [
    "# Fit the RandomizedSearchCV to the training data\n",
    "random_search.fit(x_train_selected, y_train_balanced)"
   ]
  },
  {
   "cell_type": "code",
   "execution_count": null,
   "metadata": {
    "trusted": true
   },
   "outputs": [],
   "source": [
    "# Get the best Random Forest model\n",
    "best_rf_model = random_search.best_estimator_\n",
    "print(\"Best parameters:\", random_search.best_params_)"
   ]
  },
  {
   "cell_type": "code",
   "execution_count": null,
   "metadata": {
    "trusted": true
   },
   "outputs": [],
   "source": [
    "#make prediction\n",
    "y_val_pred = best_rf_model.predict(x_val_selected)\n",
    "y_val_pred"
   ]
  },
  {
   "cell_type": "markdown",
   "metadata": {},
   "source": [
    "# Confusion Matrix"
   ]
  },
  {
   "cell_type": "code",
   "execution_count": null,
   "metadata": {
    "trusted": true
   },
   "outputs": [],
   "source": [
    "# Initialize a figure for displaying all confusion matrices\n",
    "fig, axes = plt.subplots(1, 3, figsize=(18, 6))"
   ]
  },
  {
   "cell_type": "code",
   "execution_count": null,
   "metadata": {
    "trusted": true
   },
   "outputs": [],
   "source": [
    "# Predict on the validation set\n",
    "y_val_pred = best_rf_model.predict(x_val_selected)\n",
    "\n",
    "# Compute confusion matrix\n",
    "cm = confusion_matrix(y_val, y_val_pred)\n",
    "\n",
    "# Plot confusion matrix\n",
    "disp = ConfusionMatrixDisplay(confusion_matrix=cm, display_labels=best_rf_model.classes_)\n",
    "disp.plot(cmap='Blues', colorbar=True)\n",
    "plt.title(\"Random Forest Confusion Matrix\")\n",
    "plt.show()"
   ]
  },
  {
   "cell_type": "markdown",
   "metadata": {},
   "source": [
    "# Scoring Report"
   ]
  },
  {
   "cell_type": "code",
   "execution_count": null,
   "metadata": {
    "trusted": true
   },
   "outputs": [],
   "source": [
    "y_val_pred = best_rf_model.predict(x_val_selected)\n",
    "\n",
    "# Calculate metrics\n",
    "accuracy = accuracy_score(y_val, y_val_pred)\n",
    "precision = precision_score(y_val, y_val_pred, pos_label='yes')\n",
    "recall = recall_score(y_val, y_val_pred, pos_label='yes')\n",
    "f1 = f1_score(y_val, y_val_pred, pos_label='yes')\n",
    "\n",
    "print(f\"Accuracy: {accuracy:.4f}\")\n",
    "print(f\"Precision: {precision:.4f}\")\n",
    "print(f\"Recall: {recall:.4f}\")\n",
    "print(f\"F1-Score: {f1:.4f}\")\n",
    "print(\"\\nClassification Report:\\n\")\n",
    "print(classification_report(y_val, y_val_pred, target_names=['no', 'yes']))\n",
    "print(\"\\n\")"
   ]
  }
 ],
 "metadata": {
  "kaggle": {
   "accelerator": "none",
   "dataSources": [
    {
     "databundleVersionId": 9578279,
     "sourceId": 85062,
     "sourceType": "competition"
    }
   ],
   "dockerImageVersionId": 30775,
   "isGpuEnabled": false,
   "isInternetEnabled": false,
   "language": "python",
   "sourceType": "notebook"
  },
  "kernelspec": {
   "display_name": "Python 3",
   "language": "python",
   "name": "python3"
  },
  "language_info": {
   "codemirror_mode": {
    "name": "ipython",
    "version": 3
   },
   "file_extension": ".py",
   "mimetype": "text/x-python",
   "name": "python",
   "nbconvert_exporter": "python",
   "pygments_lexer": "ipython3",
   "version": "3.10.14"
  }
 },
 "nbformat": 4,
 "nbformat_minor": 4
}
